{
 "cells": [
  {
   "cell_type": "markdown",
   "id": "d8aa8b4f",
   "metadata": {},
   "source": [
    "<div align=\"center\">\n",
    "\n",
    "# **CS 57300: Assignment 3**\n",
    "**Name**: Ishaan Roychowdhury  \n",
    "**Date**: October 20, 2023  \n",
    "\n",
    "</div>\n",
    "\n"
   ]
  },
  {
   "cell_type": "markdown",
   "id": "4c82aaa3",
   "metadata": {},
   "source": [
    "---\n",
    "## **1) Preprocessing (4 pts)**\n",
    "\n"
   ]
  },
  {
   "cell_type": "code",
   "execution_count": 1,
   "id": "1b24f7c4",
   "metadata": {},
   "outputs": [],
   "source": [
    "import pandas as pd\n",
    "\n",
    "df = pd.read_csv('dating-full.csv', nrows=6500)"
   ]
  },
  {
   "cell_type": "code",
   "execution_count": 2,
   "id": "ffeb4b29",
   "metadata": {},
   "outputs": [
    {
     "name": "stdout",
     "output_type": "stream",
     "text": [
      "Number of rows: 6500\n"
     ]
    }
   ],
   "source": [
    "print(\"Number of rows:\", df.shape[0])"
   ]
  },
  {
   "cell_type": "code",
   "execution_count": 3,
   "id": "aec29e60",
   "metadata": {},
   "outputs": [
    {
     "name": "stdout",
     "output_type": "stream",
     "text": [
      "Quotes removed from 7947 cells.\n"
     ]
    }
   ],
   "source": [
    "number_of_changed_cells = 0\n",
    "columns_to_modify = ['race', 'race_o', 'field']\n",
    "for column_name in columns_to_modify:\n",
    "    original_values = df[column_name].tolist()\n",
    "    df[column_name] = df[column_name].str.strip('\\'\"')\n",
    "    for original_value, modified_value in zip(original_values, df[column_name]):\n",
    "        if original_value != modified_value:\n",
    "            number_of_changed_cells += 1\n",
    "print(f\"Quotes removed from {number_of_changed_cells} cells.\")"
   ]
  },
  {
   "cell_type": "code",
   "execution_count": 4,
   "id": "c4410a82",
   "metadata": {},
   "outputs": [
    {
     "name": "stdout",
     "output_type": "stream",
     "text": [
      "Standardized 5463 cells to lower case.\n"
     ]
    }
   ],
   "source": [
    "changed_cells_case = 0\n",
    "for col in ['field']:\n",
    "    original_values = df[col].tolist()\n",
    "    df[col] = df[col].str.lower()\n",
    "    for original, modified in zip(original_values, df[col]):\n",
    "        if original != modified:\n",
    "            changed_cells_case += 1\n",
    "\n",
    "print(f\"Standardized {changed_cells_case} cells to lower case.\")"
   ]
  },
  {
   "cell_type": "code",
   "execution_count": 5,
   "id": "f4aaddff",
   "metadata": {},
   "outputs": [
    {
     "name": "stdout",
     "output_type": "stream",
     "text": [
      "Mean of attractive_important: 0.22.\n",
      "Mean of sincere_important: 0.18.\n",
      "Mean of intelligence_important: 0.20.\n",
      "Mean of funny_important: 0.17.\n",
      "Mean of ambition_important: 0.11.\n",
      "Mean of shared_interests_important: 0.12.\n",
      "Mean of pref_o_attractive: 0.22.\n",
      "Mean of pref_o_sincere: 0.17.\n",
      "Mean of pref_o_intelligence: 0.20.\n",
      "Mean of pref_o_funny: 0.17.\n",
      "Mean of pref_o_ambitious: 0.11.\n",
      "Mean of pref_o_shared_interests: 0.12.\n"
     ]
    }
   ],
   "source": [
    "def normalize_columns(df, columns):\n",
    "    totals = df[columns].sum(axis=1)\n",
    "    for col in columns:\n",
    "        df[col] /= totals\n",
    "    return df\n",
    "participant_cols = [\n",
    "    'attractive_important', 'sincere_important', 'intelligence_important',\n",
    "    'funny_important', 'ambition_important', 'shared_interests_important'\n",
    "]\n",
    "partner_cols = [\n",
    "    'pref_o_attractive', 'pref_o_sincere', 'pref_o_intelligence',\n",
    "    'pref_o_funny', 'pref_o_ambitious', 'pref_o_shared_interests'\n",
    "]\n",
    "df = normalize_columns(df, participant_cols)\n",
    "df = normalize_columns(df, partner_cols)\n",
    "for col in participant_cols + partner_cols:\n",
    "    print(f\"Mean of {col}: {df[col].mean():.2f}.\")"
   ]
  },
  {
   "cell_type": "code",
   "execution_count": 6,
   "id": "08cbb033",
   "metadata": {},
   "outputs": [
    {
     "data": {
      "text/plain": [
       "array(['Asian/Pacific Islander/Asian-American',\n",
       "       'European/Caucasian-American', 'Other', 'Black/African American',\n",
       "       'Latino/Hispanic American'], dtype=object)"
      ]
     },
     "execution_count": 6,
     "metadata": {},
     "output_type": "execute_result"
    }
   ],
   "source": [
    "df['race'].unique()"
   ]
  },
  {
   "cell_type": "markdown",
   "id": "ba6539b9",
   "metadata": {},
   "source": [
    "Until here, same from last assignment. \n",
    "For the categorical attributes gender, race, race o and field, apply one-hot encoding. Sort\n",
    "the values of each categorical attribute lexicographically/alphabetically before you start\n",
    "the encoding process, and set the last value of that attribute as the reference (i.e., the last\n",
    "value of that attribute will be mapped to a vector of all zeros).\n",
    "You are then asked to print as outputs the mapped vectors for ‘female’ in the gender column,\n",
    "for ‘Black/African American’ in the race column, for ‘Other’ in the race o column, and for\n",
    "‘economics’ in the field column."
   ]
  },
  {
   "cell_type": "code",
   "execution_count": 7,
   "id": "eb752b65",
   "metadata": {},
   "outputs": [],
   "source": [
    "gender_order = ['male', 'female']\n",
    "race_order = sorted(df['race'].unique().tolist(), reverse=True)\n",
    "race_o_order = sorted(df['race_o'].unique().tolist(), reverse=True)\n",
    "field_order = sorted(df['field'].unique().tolist(), reverse=True)\n",
    "columns_to_encode = ['gender', 'race', 'race_o', 'field']\n",
    "df['gender'] = df['gender'].astype(pd.CategoricalDtype(categories=gender_order, ordered=True))\n",
    "df['race'] = df['race'].astype(pd.CategoricalDtype(categories=race_order, ordered=True))\n",
    "df['race_o'] = df['race_o'].astype(pd.CategoricalDtype(categories=race_o_order, ordered=True))\n",
    "df['field'] = df['field'].astype(pd.CategoricalDtype(categories=field_order, ordered=True))\n",
    "df1 = pd.get_dummies(df, columns=columns_to_encode, drop_first=True)"
   ]
  },
  {
   "cell_type": "code",
   "execution_count": 8,
   "id": "25d8e3b7",
   "metadata": {
    "scrolled": false
   },
   "outputs": [
    {
     "name": "stdout",
     "output_type": "stream",
     "text": [
      "Mapped vector for female in column gender: [1].\n",
      "Mapped vector for Black/African American in column race: [0, 0, 1, 0].\n",
      "Mapped vector for Other in column race_o: [0, 0, 0, 0].\n",
      "Mapped vector for economics in column field: [0, 0, 0, 0, 0, 0, 0, 0, 0, 0, 0, 0, 0, 0, 0, 0, 0, 0, 0, 0, 0, 0, 0, 0, 0, 0, 0, 0, 0, 0, 0, 0, 0, 0, 0, 0, 0, 0, 0, 0, 0, 0, 0, 0, 0, 0, 0, 0, 0, 0, 0, 0, 0, 0, 0, 0, 0, 0, 0, 0, 0, 0, 0, 0, 0, 0, 0, 0, 0, 0, 0, 0, 0, 0, 0, 0, 0, 0, 0, 0, 0, 0, 0, 0, 0, 0, 0, 0, 0, 0, 0, 0, 0, 0, 0, 0, 0, 0, 0, 0, 0, 0, 0, 0, 0, 0, 0, 0, 0, 0, 0, 0, 0, 0, 0, 0, 0, 0, 0, 0, 0, 0, 0, 0, 0, 0, 0, 0, 0, 0, 0, 0, 0, 0, 0, 0, 0, 0, 0, 0, 0, 0, 0, 0, 0, 1, 0, 0, 0, 0, 0, 0, 0, 0, 0, 0, 0, 0, 0, 0, 0, 0, 0, 0, 0, 0, 0, 0, 0, 0, 0, 0, 0, 0, 0, 0, 0, 0, 0, 0, 0, 0, 0, 0, 0, 0, 0, 0, 0, 0, 0, 0, 0, 0, 0, 0, 0, 0, 0, 0, 0, 0, 0].\n"
     ]
    }
   ],
   "source": [
    "final_print_part1 = []\n",
    "def one_hot_encode_part1(df, c_name_part1, ref_val_part1):\n",
    "    dummies = pd.get_dummies(df[c_name_part1], prefix=c_name_part1)\n",
    "    if f\"{c_name_part1}_{ref_val_part1}\" in dummies.columns:\n",
    "        dummies = dummies.drop(f\"{c_name_part1}_{ref_val_part1}\", axis=1)\n",
    "    return dummies\n",
    "columns_to_encode = ['gender', 'race', 'race_o', 'field']\n",
    "values_to_map = ['female', 'Black/African American', 'Other', 'economics']\n",
    "for column, value in zip(columns_to_encode, values_to_map):\n",
    "    unique_values_sorted = sorted(df[column].unique().tolist())\n",
    "    ref_val_part1 = unique_values_sorted[-1]\n",
    "    dummies = one_hot_encode_part1(df, column, ref_val_part1)\n",
    "    df = pd.concat([df, dummies], axis=1)\n",
    "    if value in unique_values_sorted:\n",
    "        vector = dummies.columns == f\"{column}_{value}\"\n",
    "        print(f\"Mapped vector for {value} in column {column}: {vector.astype(int).tolist()}.\")\n",
    "        final_print_part1.append(f\"Mapped vector for {value} in column {column}: {vector.astype(int).tolist()}.\")\n",
    "df = df.drop(columns_to_encode, axis=1)\n"
   ]
  },
  {
   "cell_type": "code",
   "execution_count": 9,
   "id": "e7377f72",
   "metadata": {},
   "outputs": [
    {
     "data": {
      "text/html": [
       "<div>\n",
       "<style scoped>\n",
       "    .dataframe tbody tr th:only-of-type {\n",
       "        vertical-align: middle;\n",
       "    }\n",
       "\n",
       "    .dataframe tbody tr th {\n",
       "        vertical-align: top;\n",
       "    }\n",
       "\n",
       "    .dataframe thead th {\n",
       "        text-align: right;\n",
       "    }\n",
       "</style>\n",
       "<table border=\"1\" class=\"dataframe\">\n",
       "  <thead>\n",
       "    <tr style=\"text-align: right;\">\n",
       "      <th></th>\n",
       "      <th>age</th>\n",
       "      <th>age_o</th>\n",
       "      <th>samerace</th>\n",
       "      <th>importance_same_race</th>\n",
       "      <th>importance_same_religion</th>\n",
       "      <th>pref_o_attractive</th>\n",
       "      <th>pref_o_sincere</th>\n",
       "      <th>pref_o_intelligence</th>\n",
       "      <th>pref_o_funny</th>\n",
       "      <th>pref_o_ambitious</th>\n",
       "      <th>...</th>\n",
       "      <th>field_art education</th>\n",
       "      <th>field_architecture</th>\n",
       "      <th>field_applied physiology &amp; nutrition</th>\n",
       "      <th>field_applied maths/econs</th>\n",
       "      <th>field_anthropology/education</th>\n",
       "      <th>field_anthropology</th>\n",
       "      <th>field_american studies [masters]</th>\n",
       "      <th>field_american studies</th>\n",
       "      <th>field_african-american studies/history</th>\n",
       "      <th>field_acting</th>\n",
       "    </tr>\n",
       "  </thead>\n",
       "  <tbody>\n",
       "    <tr>\n",
       "      <th>0</th>\n",
       "      <td>21</td>\n",
       "      <td>27</td>\n",
       "      <td>0</td>\n",
       "      <td>2</td>\n",
       "      <td>4</td>\n",
       "      <td>0.350000</td>\n",
       "      <td>0.200000</td>\n",
       "      <td>0.200000</td>\n",
       "      <td>0.200000</td>\n",
       "      <td>0.000000</td>\n",
       "      <td>...</td>\n",
       "      <td>0</td>\n",
       "      <td>0</td>\n",
       "      <td>0</td>\n",
       "      <td>0</td>\n",
       "      <td>0</td>\n",
       "      <td>0</td>\n",
       "      <td>0</td>\n",
       "      <td>0</td>\n",
       "      <td>0</td>\n",
       "      <td>0</td>\n",
       "    </tr>\n",
       "    <tr>\n",
       "      <th>1</th>\n",
       "      <td>21</td>\n",
       "      <td>22</td>\n",
       "      <td>0</td>\n",
       "      <td>2</td>\n",
       "      <td>4</td>\n",
       "      <td>0.600000</td>\n",
       "      <td>0.000000</td>\n",
       "      <td>0.000000</td>\n",
       "      <td>0.400000</td>\n",
       "      <td>0.000000</td>\n",
       "      <td>...</td>\n",
       "      <td>0</td>\n",
       "      <td>0</td>\n",
       "      <td>0</td>\n",
       "      <td>0</td>\n",
       "      <td>0</td>\n",
       "      <td>0</td>\n",
       "      <td>0</td>\n",
       "      <td>0</td>\n",
       "      <td>0</td>\n",
       "      <td>0</td>\n",
       "    </tr>\n",
       "    <tr>\n",
       "      <th>2</th>\n",
       "      <td>21</td>\n",
       "      <td>23</td>\n",
       "      <td>0</td>\n",
       "      <td>2</td>\n",
       "      <td>4</td>\n",
       "      <td>0.300000</td>\n",
       "      <td>0.050000</td>\n",
       "      <td>0.150000</td>\n",
       "      <td>0.400000</td>\n",
       "      <td>0.050000</td>\n",
       "      <td>...</td>\n",
       "      <td>0</td>\n",
       "      <td>0</td>\n",
       "      <td>0</td>\n",
       "      <td>0</td>\n",
       "      <td>0</td>\n",
       "      <td>0</td>\n",
       "      <td>0</td>\n",
       "      <td>0</td>\n",
       "      <td>0</td>\n",
       "      <td>0</td>\n",
       "    </tr>\n",
       "    <tr>\n",
       "      <th>3</th>\n",
       "      <td>21</td>\n",
       "      <td>24</td>\n",
       "      <td>0</td>\n",
       "      <td>2</td>\n",
       "      <td>4</td>\n",
       "      <td>0.300000</td>\n",
       "      <td>0.100000</td>\n",
       "      <td>0.200000</td>\n",
       "      <td>0.100000</td>\n",
       "      <td>0.100000</td>\n",
       "      <td>...</td>\n",
       "      <td>0</td>\n",
       "      <td>0</td>\n",
       "      <td>0</td>\n",
       "      <td>0</td>\n",
       "      <td>0</td>\n",
       "      <td>0</td>\n",
       "      <td>0</td>\n",
       "      <td>0</td>\n",
       "      <td>0</td>\n",
       "      <td>0</td>\n",
       "    </tr>\n",
       "    <tr>\n",
       "      <th>4</th>\n",
       "      <td>21</td>\n",
       "      <td>25</td>\n",
       "      <td>0</td>\n",
       "      <td>2</td>\n",
       "      <td>4</td>\n",
       "      <td>0.500000</td>\n",
       "      <td>0.000000</td>\n",
       "      <td>0.300000</td>\n",
       "      <td>0.100000</td>\n",
       "      <td>0.000000</td>\n",
       "      <td>...</td>\n",
       "      <td>0</td>\n",
       "      <td>0</td>\n",
       "      <td>0</td>\n",
       "      <td>0</td>\n",
       "      <td>0</td>\n",
       "      <td>0</td>\n",
       "      <td>0</td>\n",
       "      <td>0</td>\n",
       "      <td>0</td>\n",
       "      <td>0</td>\n",
       "    </tr>\n",
       "    <tr>\n",
       "      <th>...</th>\n",
       "      <td>...</td>\n",
       "      <td>...</td>\n",
       "      <td>...</td>\n",
       "      <td>...</td>\n",
       "      <td>...</td>\n",
       "      <td>...</td>\n",
       "      <td>...</td>\n",
       "      <td>...</td>\n",
       "      <td>...</td>\n",
       "      <td>...</td>\n",
       "      <td>...</td>\n",
       "      <td>...</td>\n",
       "      <td>...</td>\n",
       "      <td>...</td>\n",
       "      <td>...</td>\n",
       "      <td>...</td>\n",
       "      <td>...</td>\n",
       "      <td>...</td>\n",
       "      <td>...</td>\n",
       "      <td>...</td>\n",
       "      <td>...</td>\n",
       "    </tr>\n",
       "    <tr>\n",
       "      <th>6495</th>\n",
       "      <td>22</td>\n",
       "      <td>23</td>\n",
       "      <td>1</td>\n",
       "      <td>6</td>\n",
       "      <td>6</td>\n",
       "      <td>0.200000</td>\n",
       "      <td>0.200000</td>\n",
       "      <td>0.200000</td>\n",
       "      <td>0.150000</td>\n",
       "      <td>0.050000</td>\n",
       "      <td>...</td>\n",
       "      <td>0</td>\n",
       "      <td>0</td>\n",
       "      <td>0</td>\n",
       "      <td>0</td>\n",
       "      <td>0</td>\n",
       "      <td>0</td>\n",
       "      <td>0</td>\n",
       "      <td>0</td>\n",
       "      <td>0</td>\n",
       "      <td>0</td>\n",
       "    </tr>\n",
       "    <tr>\n",
       "      <th>6496</th>\n",
       "      <td>22</td>\n",
       "      <td>23</td>\n",
       "      <td>1</td>\n",
       "      <td>6</td>\n",
       "      <td>6</td>\n",
       "      <td>0.200000</td>\n",
       "      <td>0.200000</td>\n",
       "      <td>0.200000</td>\n",
       "      <td>0.150000</td>\n",
       "      <td>0.100000</td>\n",
       "      <td>...</td>\n",
       "      <td>0</td>\n",
       "      <td>0</td>\n",
       "      <td>0</td>\n",
       "      <td>0</td>\n",
       "      <td>0</td>\n",
       "      <td>0</td>\n",
       "      <td>0</td>\n",
       "      <td>0</td>\n",
       "      <td>0</td>\n",
       "      <td>0</td>\n",
       "    </tr>\n",
       "    <tr>\n",
       "      <th>6497</th>\n",
       "      <td>22</td>\n",
       "      <td>27</td>\n",
       "      <td>0</td>\n",
       "      <td>6</td>\n",
       "      <td>6</td>\n",
       "      <td>0.580000</td>\n",
       "      <td>0.050000</td>\n",
       "      <td>0.080000</td>\n",
       "      <td>0.100000</td>\n",
       "      <td>0.070000</td>\n",
       "      <td>...</td>\n",
       "      <td>0</td>\n",
       "      <td>0</td>\n",
       "      <td>0</td>\n",
       "      <td>0</td>\n",
       "      <td>0</td>\n",
       "      <td>0</td>\n",
       "      <td>0</td>\n",
       "      <td>0</td>\n",
       "      <td>0</td>\n",
       "      <td>0</td>\n",
       "    </tr>\n",
       "    <tr>\n",
       "      <th>6498</th>\n",
       "      <td>22</td>\n",
       "      <td>23</td>\n",
       "      <td>1</td>\n",
       "      <td>6</td>\n",
       "      <td>6</td>\n",
       "      <td>0.181818</td>\n",
       "      <td>0.227273</td>\n",
       "      <td>0.227273</td>\n",
       "      <td>0.272727</td>\n",
       "      <td>0.045455</td>\n",
       "      <td>...</td>\n",
       "      <td>0</td>\n",
       "      <td>0</td>\n",
       "      <td>0</td>\n",
       "      <td>0</td>\n",
       "      <td>0</td>\n",
       "      <td>0</td>\n",
       "      <td>0</td>\n",
       "      <td>0</td>\n",
       "      <td>0</td>\n",
       "      <td>0</td>\n",
       "    </tr>\n",
       "    <tr>\n",
       "      <th>6499</th>\n",
       "      <td>22</td>\n",
       "      <td>26</td>\n",
       "      <td>1</td>\n",
       "      <td>6</td>\n",
       "      <td>6</td>\n",
       "      <td>0.400000</td>\n",
       "      <td>0.050000</td>\n",
       "      <td>0.300000</td>\n",
       "      <td>0.150000</td>\n",
       "      <td>0.050000</td>\n",
       "      <td>...</td>\n",
       "      <td>0</td>\n",
       "      <td>0</td>\n",
       "      <td>0</td>\n",
       "      <td>0</td>\n",
       "      <td>0</td>\n",
       "      <td>0</td>\n",
       "      <td>0</td>\n",
       "      <td>0</td>\n",
       "      <td>0</td>\n",
       "      <td>0</td>\n",
       "    </tr>\n",
       "  </tbody>\n",
       "</table>\n",
       "<p>6500 rows × 261 columns</p>\n",
       "</div>"
      ],
      "text/plain": [
       "      age  age_o  samerace  importance_same_race  importance_same_religion  \\\n",
       "0      21     27         0                     2                         4   \n",
       "1      21     22         0                     2                         4   \n",
       "2      21     23         0                     2                         4   \n",
       "3      21     24         0                     2                         4   \n",
       "4      21     25         0                     2                         4   \n",
       "...   ...    ...       ...                   ...                       ...   \n",
       "6495   22     23         1                     6                         6   \n",
       "6496   22     23         1                     6                         6   \n",
       "6497   22     27         0                     6                         6   \n",
       "6498   22     23         1                     6                         6   \n",
       "6499   22     26         1                     6                         6   \n",
       "\n",
       "      pref_o_attractive  pref_o_sincere  pref_o_intelligence  pref_o_funny  \\\n",
       "0              0.350000        0.200000             0.200000      0.200000   \n",
       "1              0.600000        0.000000             0.000000      0.400000   \n",
       "2              0.300000        0.050000             0.150000      0.400000   \n",
       "3              0.300000        0.100000             0.200000      0.100000   \n",
       "4              0.500000        0.000000             0.300000      0.100000   \n",
       "...                 ...             ...                  ...           ...   \n",
       "6495           0.200000        0.200000             0.200000      0.150000   \n",
       "6496           0.200000        0.200000             0.200000      0.150000   \n",
       "6497           0.580000        0.050000             0.080000      0.100000   \n",
       "6498           0.181818        0.227273             0.227273      0.272727   \n",
       "6499           0.400000        0.050000             0.300000      0.150000   \n",
       "\n",
       "      pref_o_ambitious  ...  field_art education  field_architecture  \\\n",
       "0             0.000000  ...                    0                   0   \n",
       "1             0.000000  ...                    0                   0   \n",
       "2             0.050000  ...                    0                   0   \n",
       "3             0.100000  ...                    0                   0   \n",
       "4             0.000000  ...                    0                   0   \n",
       "...                ...  ...                  ...                 ...   \n",
       "6495          0.050000  ...                    0                   0   \n",
       "6496          0.100000  ...                    0                   0   \n",
       "6497          0.070000  ...                    0                   0   \n",
       "6498          0.045455  ...                    0                   0   \n",
       "6499          0.050000  ...                    0                   0   \n",
       "\n",
       "      field_applied physiology & nutrition  field_applied maths/econs  \\\n",
       "0                                        0                          0   \n",
       "1                                        0                          0   \n",
       "2                                        0                          0   \n",
       "3                                        0                          0   \n",
       "4                                        0                          0   \n",
       "...                                    ...                        ...   \n",
       "6495                                     0                          0   \n",
       "6496                                     0                          0   \n",
       "6497                                     0                          0   \n",
       "6498                                     0                          0   \n",
       "6499                                     0                          0   \n",
       "\n",
       "      field_anthropology/education  field_anthropology  \\\n",
       "0                                0                   0   \n",
       "1                                0                   0   \n",
       "2                                0                   0   \n",
       "3                                0                   0   \n",
       "4                                0                   0   \n",
       "...                            ...                 ...   \n",
       "6495                             0                   0   \n",
       "6496                             0                   0   \n",
       "6497                             0                   0   \n",
       "6498                             0                   0   \n",
       "6499                             0                   0   \n",
       "\n",
       "      field_american studies [masters]  field_american studies  \\\n",
       "0                                    0                       0   \n",
       "1                                    0                       0   \n",
       "2                                    0                       0   \n",
       "3                                    0                       0   \n",
       "4                                    0                       0   \n",
       "...                                ...                     ...   \n",
       "6495                                 0                       0   \n",
       "6496                                 0                       0   \n",
       "6497                                 0                       0   \n",
       "6498                                 0                       0   \n",
       "6499                                 0                       0   \n",
       "\n",
       "      field_african-american studies/history  field_acting  \n",
       "0                                          0             0  \n",
       "1                                          0             0  \n",
       "2                                          0             0  \n",
       "3                                          0             0  \n",
       "4                                          0             0  \n",
       "...                                      ...           ...  \n",
       "6495                                       0             0  \n",
       "6496                                       0             0  \n",
       "6497                                       0             0  \n",
       "6498                                       0             0  \n",
       "6499                                       0             0  \n",
       "\n",
       "[6500 rows x 261 columns]"
      ]
     },
     "execution_count": 9,
     "metadata": {},
     "output_type": "execute_result"
    }
   ],
   "source": [
    "df1"
   ]
  },
  {
   "cell_type": "markdown",
   "id": "c4b0958c",
   "metadata": {},
   "source": [
    "Use the sample function from pandas with the parameters initialized as random state =\n",
    "25, frac = 0.2 to take a random 20% sample from the entire dataset. This sample will serve\n",
    "as your test dataset, which you should output in testSet.csv; the rest will be your training\n",
    "dataset, which you should output in trainingSet.csv. (Note: The use of the random state\n",
    "will ensure all students have the same training and test datasets; incorrect or no initialization\n",
    "of this parameter will lead to non-reproducible results)."
   ]
  },
  {
   "cell_type": "code",
   "execution_count": 10,
   "id": "0339ab2d",
   "metadata": {},
   "outputs": [],
   "source": [
    "test_df = df1.sample(random_state=25, frac=0.2)\n",
    "train_df = df1.drop(test_df.index)\n",
    "train_df.to_csv('trainingSet.csv', index=False)\n",
    "test_df.to_csv('testSet.csv', index=False)"
   ]
  },
  {
   "cell_type": "markdown",
   "id": "050aa35d",
   "metadata": {},
   "source": [
    "## **Summary of Part 1**:"
   ]
  },
  {
   "cell_type": "code",
   "execution_count": 11,
   "id": "d013fcdf",
   "metadata": {},
   "outputs": [
    {
     "name": "stdout",
     "output_type": "stream",
     "text": [
      "Mapped vector for female in column gender: [1].\n",
      "Mapped vector for Black/African American in column race: [0, 0, 1, 0].\n",
      "Mapped vector for Other in column race_o: [0, 0, 0, 0].\n",
      "Mapped vector for economics in column field: [0, 0, 0, 0, 0, 0, 0, 0, 0, 0, 0, 0, 0, 0, 0, 0, 0, 0, 0, 0, 0, 0, 0, 0, 0, 0, 0, 0, 0, 0, 0, 0, 0, 0, 0, 0, 0, 0, 0, 0, 0, 0, 0, 0, 0, 0, 0, 0, 0, 0, 0, 0, 0, 0, 0, 0, 0, 0, 0, 0, 0, 0, 0, 0, 0, 0, 0, 0, 0, 0, 0, 0, 0, 0, 0, 0, 0, 0, 0, 0, 0, 0, 0, 0, 0, 0, 0, 0, 0, 0, 0, 0, 0, 0, 0, 0, 0, 0, 0, 0, 0, 0, 0, 0, 0, 0, 0, 0, 0, 0, 0, 0, 0, 0, 0, 0, 0, 0, 0, 0, 0, 0, 0, 0, 0, 0, 0, 0, 0, 0, 0, 0, 0, 0, 0, 0, 0, 0, 0, 0, 0, 0, 0, 0, 0, 1, 0, 0, 0, 0, 0, 0, 0, 0, 0, 0, 0, 0, 0, 0, 0, 0, 0, 0, 0, 0, 0, 0, 0, 0, 0, 0, 0, 0, 0, 0, 0, 0, 0, 0, 0, 0, 0, 0, 0, 0, 0, 0, 0, 0, 0, 0, 0, 0, 0, 0, 0, 0, 0, 0, 0, 0, 0].\n"
     ]
    }
   ],
   "source": [
    "print('\\n'.join(final_print_part1))"
   ]
  },
  {
   "cell_type": "markdown",
   "id": "51e4ffef",
   "metadata": {},
   "source": [
    "---\n",
    "## **2) Implement Logistic Regression and Linear SVM (16 pts)**:"
   ]
  },
  {
   "cell_type": "markdown",
   "id": "77e484d8",
   "metadata": {},
   "source": [
    "Write a python function lrsvm (trainingDataFilename, testDataFilename, modelIdx) that\n",
    "takes three arguments as input as described below:\n",
    "1. trainingDataFilename: the set of data that will be used to train your algorithms (e.g., trainingSet.\n",
    "csv).\n",
    "2. testDataFilename: the set of data that will be used to test your algorithms (e.g., testSet.csv).\n",
    "3. modelIdx: an integer to specify the model to use for classification (LR= 1 and SVM= 2).\n",
    "Note: Please, refer to the lecture slides on brightspace for the pseudocode of these algorithms\n",
    "rather than referring to other online sources. Also, when implementing Gradient Descent, DO NOT\n",
    "implement stochastic gradient descent, and make sure to follow the values given for the parameters\n",
    "to be used by each algorithm as described below:\n",
    "(i) Write a nested function named lr(trainingSet, testSet) which takes the training dataset\n",
    "and the testing dataset as input parameters. The purpose of this function is to train a\n",
    "logistic regression classifier using the data in the training dataset, and then test the classifier’s\n",
    "performance on the testing dataset.\n",
    "Use the following setup for training the logistic regression classifier: (1) Use L2 regularization,\n",
    "with λ = 0.01. Optimize with gradient descent, using an initial weight vector of all zeros and a\n",
    "2\n",
    "step size of 0.01. (2) Stop optimization after a maximum number of iterations max = 500, or\n",
    "when the L2 norm of the difference between new and old weights is smaller than the threshold\n",
    "tol = 1e − 6, whichever is reached first. Print the classifier’s accuracy on both the training\n",
    "dataset and the testing dataset (rounded to two decimals).\n",
    "(ii) Write a nested function named svm(trainingSet, testSet) which takes the training dataset\n",
    "and the testing dataset as input parameters. The purpose of this function is to train a linear\n",
    "SVM classifier using the data in the training dataset, and then test the classifier’s performance\n",
    "on the testing dataset.\n",
    "Use the following setup for training the SVM: (1) Use hinge loss. Optimize with subgradient\n",
    "descent, using an initial weight of all zeros, a step size of 0.5 and a regularization parameter\n",
    "of λ = 0.01. (2) Stop optimization after a maximum number of iterations max = 500, or\n",
    "when the L2 norm of the difference between new and old weights is smaller than the threshold\n",
    "tol = 1e − 6, whichever is reached first. Print the classifier’s accuracy on both the training\n",
    "dataset and the testing dataset (rounded to two decimals)."
   ]
  },
  {
   "cell_type": "code",
   "execution_count": 12,
   "id": "6a7e7432",
   "metadata": {},
   "outputs": [],
   "source": [
    "import numpy as np\n",
    "import pandas as pd\n",
    "def sigmoid(z):\n",
    "    return 1 / (1 + np.exp(-np.clip(z, -500, 500)))\n",
    "\n",
    "def accuracy(y_true, y_pred):\n",
    "    return np.sum(y_true == y_pred) / len(y_true)\n",
    "\n",
    "def process_data(data):\n",
    "    if isinstance(data, str):\n",
    "        df = pd.read_csv(data)\n",
    "    elif isinstance(data, pd.DataFrame):\n",
    "        df = data\n",
    "    else:\n",
    "        raise ValueError(\"Invalid input man.\")\n",
    "    \n",
    "    X = df.drop(columns='decision').values\n",
    "    y = df['decision'].values.reshape(-1, 1)\n",
    "    \n",
    "    # Simply insert the bias term without normalizing X\n",
    "    X_bias = np.insert(X, 0, 1, axis=1)\n",
    "    \n",
    "    return X_bias, y\n",
    "\n",
    "def lrsvm(trainingDataFilename, testdataFilename, modelIdx):\n",
    "    def lr(trainingSet, testSet):\n",
    "        X_train, y_train = process_data(trainingSet)\n",
    "        X_test, y_test = process_data(testSet)\n",
    "        alpha_given, max_iterations, lambda_given, tol = 0.01, 500, 0.01, 1e-6\n",
    "        num_features = X_train.shape[1]\n",
    "        weights, prev_weights = np.zeros((num_features, 1)), np.zeros((num_features, 1))\n",
    "        for _ in range(max_iterations):\n",
    "            predictions = sigmoid(X_train @ weights)\n",
    "            gradient = X_train.T @ (predictions - y_train) + lambda_given * weights\n",
    "            prev_weights = weights.copy()\n",
    "            weights -= alpha_given * gradient\n",
    "            if np.linalg.norm(weights - prev_weights, 2) < tol:\n",
    "                break\n",
    "        train_preds = np.round(sigmoid(X_train @ weights))\n",
    "        test_preds = np.round(sigmoid(X_test @ weights))\n",
    "        return accuracy(y_train, train_preds), accuracy(y_test, test_preds)\n",
    "    def svm(trainingSet, testSet):\n",
    "        X_train, y_train = process_data(trainingSet)\n",
    "        X_test, y_test = process_data(testSet)\n",
    "        alpha_given, max_iterations, lambda_given, tol = 0.5, 500, 0.01, 1e-6\n",
    "        y_train, y_test = np.where(y_train == 0, -1, 1), np.where(y_test == 0, -1, 1)\n",
    "        num_features = X_train.shape[1]\n",
    "        weights, prev_weights = np.zeros((num_features, 1)), np.zeros((num_features, 1))\n",
    "        for _ in range(max_iterations):\n",
    "            #Hinge Loss as given in class\n",
    "            gradient = np.mean([max(0, 1 - y_train[i] * (X_train[i] @ weights)) * (-y_train[i] * X_train[i]).reshape(-1, 1)\n",
    "                                for i in range(len(y_train))], axis=0) + lambda_given * weights\n",
    "            prev_weights = weights.copy()\n",
    "            weights -= alpha_given * gradient\n",
    "            if np.linalg.norm(weights - prev_weights, 2) < tol:\n",
    "                break\n",
    "        train_preds = np.where(X_train @ weights > 0, 1, -1)\n",
    "        test_preds = np.where(X_test @ weights > 0, 1, -1)\n",
    "        return accuracy(y_train, train_preds), accuracy(y_test, test_preds)\n",
    "    if modelIdx == 1:\n",
    "        train_acc, test_acc = lr(trainingDataFilename, testdataFilename)\n",
    "        print(f\"Training Accuracy LR: {train_acc:.2f}\")\n",
    "        print(f\"Testing Accuracy LR: {test_acc:.2f}\")\n",
    "        return train_acc, test_acc\n",
    "    elif modelIdx == 2:\n",
    "        train_acc, test_acc = svm(trainingDataFilename, testdataFilename)\n",
    "        print(f\"Training Accuracy SVM: {train_acc:.2f}\")\n",
    "        print(f\"Testing Accuracy SVM: {test_acc:.2f}\")\n",
    "        return train_acc, test_acc\n",
    "    else:\n",
    "        print(\"Invalid idx man.\")\n",
    "        return None, None\n"
   ]
  },
  {
   "cell_type": "code",
   "execution_count": 13,
   "id": "edca5c95",
   "metadata": {},
   "outputs": [
    {
     "name": "stdout",
     "output_type": "stream",
     "text": [
      "Training Accuracy LR: 0.65\n",
      "Testing Accuracy LR: 0.65\n"
     ]
    },
    {
     "data": {
      "text/plain": [
       "(0.6534615384615384, 0.6484615384615384)"
      ]
     },
     "execution_count": 13,
     "metadata": {},
     "output_type": "execute_result"
    }
   ],
   "source": [
    "lrsvm('trainingSet.csv', 'testSet.csv', 1)"
   ]
  },
  {
   "cell_type": "code",
   "execution_count": 14,
   "id": "f074a357",
   "metadata": {},
   "outputs": [
    {
     "name": "stderr",
     "output_type": "stream",
     "text": [
      "/Users/ishaanrc/opt/anaconda3/lib/python3.9/site-packages/numpy/core/_methods.py:179: RuntimeWarning: overflow encountered in reduce\n",
      "  ret = umr_sum(arr, axis, dtype, out, keepdims, where=where)\n",
      "/var/folders/tk/72g73v7574zcfdyjh6s5zd4m0000gn/T/ipykernel_74282/666093259.py:51: RuntimeWarning: invalid value encountered in matmul\n",
      "  gradient = np.mean([max(0, 1 - y_train[i] * (X_train[i] @ weights)) * (-y_train[i] * X_train[i]).reshape(-1, 1)\n",
      "/var/folders/tk/72g73v7574zcfdyjh6s5zd4m0000gn/T/ipykernel_74282/666093259.py:54: RuntimeWarning: invalid value encountered in subtract\n",
      "  weights -= alpha_given * gradient\n"
     ]
    },
    {
     "name": "stdout",
     "output_type": "stream",
     "text": [
      "Training Accuracy SVM: 0.57\n",
      "Testing Accuracy SVM: 0.56\n"
     ]
    },
    {
     "data": {
      "text/plain": [
       "(0.5651923076923077, 0.5638461538461539)"
      ]
     },
     "execution_count": 14,
     "metadata": {},
     "output_type": "execute_result"
    }
   ],
   "source": [
    "lrsvm('trainingSet.csv', 'testSet.csv', 2)"
   ]
  },
  {
   "cell_type": "markdown",
   "id": "96abfaeb",
   "metadata": {},
   "source": [
    "---\n",
    "## **3) Learning Curves and Performance Comparison (10 pts)**:"
   ]
  },
  {
   "cell_type": "code",
   "execution_count": 15,
   "id": "29797595",
   "metadata": {},
   "outputs": [
    {
     "name": "stdout",
     "output_type": "stream",
     "text": [
      "Training Accuracy NBC: 0.76\n",
      "Testing Accuracy NBC: 0.73\n"
     ]
    },
    {
     "data": {
      "text/plain": [
       "(0.760576923076923, 0.7315384615384616)"
      ]
     },
     "execution_count": 15,
     "metadata": {},
     "output_type": "execute_result"
    }
   ],
   "source": [
    "def nbc(train_df, test_df, t_frac):\n",
    "    sampled_train_df = train_df.sample(frac=t_frac, random_state=47)\n",
    "    class_probabilities = {}\n",
    "    total_samples = len(sampled_train_df)\n",
    "    for target_class in sampled_train_df['decision'].unique():\n",
    "        class_df = sampled_train_df[sampled_train_df['decision'] == target_class]\n",
    "        class_probabilities[target_class] = len(class_df) / total_samples\n",
    "    attribute_probabilities = {}\n",
    "    for target_class in class_probabilities.keys():\n",
    "        attribute_probabilities[target_class] = {}\n",
    "        class_df = sampled_train_df[sampled_train_df['decision'] == target_class]\n",
    "        for attribute in class_df.columns:\n",
    "            if attribute != 'decision':\n",
    "                attribute_value_counts = class_df[attribute].value_counts()\n",
    "                num_categories = len(train_df[attribute].unique())\n",
    "                attribute_probabilities[target_class][attribute] = (attribute_value_counts + 1) / (len(class_df) + num_categories)\n",
    "    training_correct = 0\n",
    "    testing_correct = 0\n",
    "    training_total = len(sampled_train_df)\n",
    "    testing_total = len(test_df)\n",
    "    for _, row in sampled_train_df.iterrows():\n",
    "        training_class_likelihoods = {}\n",
    "        for target_class in class_probabilities.keys():\n",
    "            likelihood = class_probabilities[target_class]\n",
    "            for attribute in row.index:\n",
    "                if attribute != 'decision':\n",
    "                    value = row[attribute]\n",
    "                    if value in attribute_probabilities[target_class][attribute]:\n",
    "                        likelihood *= attribute_probabilities[target_class][attribute][value]\n",
    "            training_class_likelihoods[target_class] = likelihood\n",
    "        training_predicted_class = max(training_class_likelihoods, key=training_class_likelihoods.get)\n",
    "        if training_predicted_class == row['decision']:\n",
    "            training_correct += 1\n",
    "    for _, row in test_df.iterrows():\n",
    "        testing_class_likelihoods = {}\n",
    "        for target_class in class_probabilities.keys():\n",
    "            likelihood = class_probabilities[target_class]\n",
    "            for attribute in row.index:\n",
    "                if attribute != 'decision':\n",
    "                    value = row[attribute]\n",
    "                    if value in attribute_probabilities[target_class][attribute]:\n",
    "                        likelihood *= attribute_probabilities[target_class][attribute][value]\n",
    "            testing_class_likelihoods[target_class] = likelihood\n",
    "        testing_predicted_class = max(testing_class_likelihoods, key=testing_class_likelihoods.get)\n",
    "        if testing_predicted_class == row['decision']:\n",
    "            testing_correct += 1\n",
    "    training_accuracy = training_correct / training_total\n",
    "    testing_accuracy = testing_correct / testing_total\n",
    "    print(f\"Training Accuracy NBC: {training_accuracy:.2f}\")\n",
    "    print(f\"Testing Accuracy NBC: {testing_accuracy:.2f}\")\n",
    "    return training_accuracy, testing_accuracy\n",
    "train_df = pd.read_csv('trainingSet.csv')\n",
    "test_df = pd.read_csv('testSet.csv')\n",
    "nbc(train_df, test_df, t_frac=1)"
   ]
  },
  {
   "cell_type": "code",
   "execution_count": 16,
   "id": "70eb1c2a",
   "metadata": {},
   "outputs": [],
   "source": [
    "training_data = pd.read_csv('trainingSet.csv')\n",
    "shuffled_train_df = training_data.sample(random_state=18, frac=1)\n",
    "partition_size = 520\n",
    "S = [shuffled_train_df.iloc[i:i+partition_size] for i in range(0, len(shuffled_train_df), partition_size)]"
   ]
  },
  {
   "cell_type": "code",
   "execution_count": 17,
   "id": "9a9a0ed5",
   "metadata": {
    "scrolled": true
   },
   "outputs": [
    {
     "name": "stdout",
     "output_type": "stream",
     "text": [
      "\n",
      "Processing t_frac = 0.025\n",
      "Training Accuracy NBC: 0.21\n",
      "Testing Accuracy NBC: 0.46\n",
      "Training Accuracy LR: 0.67\n",
      "Testing Accuracy LR: 0.64\n"
     ]
    },
    {
     "name": "stderr",
     "output_type": "stream",
     "text": [
      "/Users/ishaanrc/opt/anaconda3/lib/python3.9/site-packages/numpy/core/_methods.py:179: RuntimeWarning: overflow encountered in reduce\n",
      "  ret = umr_sum(arr, axis, dtype, out, keepdims, where=where)\n",
      "/var/folders/tk/72g73v7574zcfdyjh6s5zd4m0000gn/T/ipykernel_74282/666093259.py:51: RuntimeWarning: invalid value encountered in multiply\n",
      "  gradient = np.mean([max(0, 1 - y_train[i] * (X_train[i] @ weights)) * (-y_train[i] * X_train[i]).reshape(-1, 1)\n",
      "/Users/ishaanrc/opt/anaconda3/lib/python3.9/site-packages/numpy/core/_methods.py:179: RuntimeWarning: invalid value encountered in reduce\n",
      "  ret = umr_sum(arr, axis, dtype, out, keepdims, where=where)\n",
      "/var/folders/tk/72g73v7574zcfdyjh6s5zd4m0000gn/T/ipykernel_74282/666093259.py:54: RuntimeWarning: invalid value encountered in subtract\n",
      "  weights -= alpha_given * gradient\n",
      "/var/folders/tk/72g73v7574zcfdyjh6s5zd4m0000gn/T/ipykernel_74282/666093259.py:51: RuntimeWarning: invalid value encountered in matmul\n",
      "  gradient = np.mean([max(0, 1 - y_train[i] * (X_train[i] @ weights)) * (-y_train[i] * X_train[i]).reshape(-1, 1)\n"
     ]
    },
    {
     "name": "stdout",
     "output_type": "stream",
     "text": [
      "Training Accuracy SVM: 0.50\n",
      "Testing Accuracy SVM: 0.53\n",
      "Training Accuracy NBC: 0.20\n",
      "Testing Accuracy NBC: 0.47\n",
      "Training Accuracy LR: 0.87\n",
      "Testing Accuracy LR: 0.71\n"
     ]
    },
    {
     "name": "stderr",
     "output_type": "stream",
     "text": [
      "/var/folders/tk/72g73v7574zcfdyjh6s5zd4m0000gn/T/ipykernel_74282/666093259.py:51: RuntimeWarning: overflow encountered in multiply\n",
      "  gradient = np.mean([max(0, 1 - y_train[i] * (X_train[i] @ weights)) * (-y_train[i] * X_train[i]).reshape(-1, 1)\n",
      "/Users/ishaanrc/opt/anaconda3/lib/python3.9/site-packages/numpy/core/_methods.py:179: RuntimeWarning: overflow encountered in reduce\n",
      "  ret = umr_sum(arr, axis, dtype, out, keepdims, where=where)\n",
      "/var/folders/tk/72g73v7574zcfdyjh6s5zd4m0000gn/T/ipykernel_74282/666093259.py:51: RuntimeWarning: invalid value encountered in matmul\n",
      "  gradient = np.mean([max(0, 1 - y_train[i] * (X_train[i] @ weights)) * (-y_train[i] * X_train[i]).reshape(-1, 1)\n",
      "/var/folders/tk/72g73v7574zcfdyjh6s5zd4m0000gn/T/ipykernel_74282/666093259.py:54: RuntimeWarning: invalid value encountered in subtract\n",
      "  weights -= alpha_given * gradient\n"
     ]
    },
    {
     "name": "stdout",
     "output_type": "stream",
     "text": [
      "Training Accuracy SVM: 0.50\n",
      "Testing Accuracy SVM: 0.60\n",
      "Training Accuracy NBC: 0.20\n",
      "Testing Accuracy NBC: 0.47\n",
      "Training Accuracy LR: 0.57\n",
      "Testing Accuracy LR: 0.64\n"
     ]
    },
    {
     "name": "stderr",
     "output_type": "stream",
     "text": [
      "/Users/ishaanrc/opt/anaconda3/lib/python3.9/site-packages/numpy/core/_methods.py:179: RuntimeWarning: overflow encountered in reduce\n",
      "  ret = umr_sum(arr, axis, dtype, out, keepdims, where=where)\n",
      "/var/folders/tk/72g73v7574zcfdyjh6s5zd4m0000gn/T/ipykernel_74282/666093259.py:51: RuntimeWarning: invalid value encountered in matmul\n",
      "  gradient = np.mean([max(0, 1 - y_train[i] * (X_train[i] @ weights)) * (-y_train[i] * X_train[i]).reshape(-1, 1)\n",
      "/var/folders/tk/72g73v7574zcfdyjh6s5zd4m0000gn/T/ipykernel_74282/666093259.py:51: RuntimeWarning: invalid value encountered in multiply\n",
      "  gradient = np.mean([max(0, 1 - y_train[i] * (X_train[i] @ weights)) * (-y_train[i] * X_train[i]).reshape(-1, 1)\n",
      "/Users/ishaanrc/opt/anaconda3/lib/python3.9/site-packages/numpy/core/_methods.py:179: RuntimeWarning: invalid value encountered in reduce\n",
      "  ret = umr_sum(arr, axis, dtype, out, keepdims, where=where)\n",
      "/var/folders/tk/72g73v7574zcfdyjh6s5zd4m0000gn/T/ipykernel_74282/666093259.py:54: RuntimeWarning: invalid value encountered in subtract\n",
      "  weights -= alpha_given * gradient\n"
     ]
    },
    {
     "name": "stdout",
     "output_type": "stream",
     "text": [
      "Training Accuracy SVM: 0.54\n",
      "Testing Accuracy SVM: 0.57\n",
      "Training Accuracy NBC: 0.19\n",
      "Testing Accuracy NBC: 0.50\n",
      "Training Accuracy LR: 0.73\n",
      "Testing Accuracy LR: 0.67\n"
     ]
    },
    {
     "name": "stderr",
     "output_type": "stream",
     "text": [
      "/var/folders/tk/72g73v7574zcfdyjh6s5zd4m0000gn/T/ipykernel_74282/666093259.py:51: RuntimeWarning: overflow encountered in multiply\n",
      "  gradient = np.mean([max(0, 1 - y_train[i] * (X_train[i] @ weights)) * (-y_train[i] * X_train[i]).reshape(-1, 1)\n",
      "/Users/ishaanrc/opt/anaconda3/lib/python3.9/site-packages/numpy/core/_methods.py:179: RuntimeWarning: overflow encountered in reduce\n",
      "  ret = umr_sum(arr, axis, dtype, out, keepdims, where=where)\n",
      "/var/folders/tk/72g73v7574zcfdyjh6s5zd4m0000gn/T/ipykernel_74282/666093259.py:51: RuntimeWarning: invalid value encountered in matmul\n",
      "  gradient = np.mean([max(0, 1 - y_train[i] * (X_train[i] @ weights)) * (-y_train[i] * X_train[i]).reshape(-1, 1)\n",
      "/var/folders/tk/72g73v7574zcfdyjh6s5zd4m0000gn/T/ipykernel_74282/666093259.py:54: RuntimeWarning: invalid value encountered in subtract\n",
      "  weights -= alpha_given * gradient\n"
     ]
    },
    {
     "name": "stdout",
     "output_type": "stream",
     "text": [
      "Training Accuracy SVM: 0.50\n",
      "Testing Accuracy SVM: 0.56\n",
      "Training Accuracy NBC: 0.16\n",
      "Testing Accuracy NBC: 0.44\n",
      "Training Accuracy LR: 0.70\n",
      "Testing Accuracy LR: 0.68\n"
     ]
    },
    {
     "name": "stderr",
     "output_type": "stream",
     "text": [
      "/Users/ishaanrc/opt/anaconda3/lib/python3.9/site-packages/numpy/core/_methods.py:179: RuntimeWarning: overflow encountered in reduce\n",
      "  ret = umr_sum(arr, axis, dtype, out, keepdims, where=where)\n",
      "/var/folders/tk/72g73v7574zcfdyjh6s5zd4m0000gn/T/ipykernel_74282/666093259.py:51: RuntimeWarning: invalid value encountered in multiply\n",
      "  gradient = np.mean([max(0, 1 - y_train[i] * (X_train[i] @ weights)) * (-y_train[i] * X_train[i]).reshape(-1, 1)\n",
      "/Users/ishaanrc/opt/anaconda3/lib/python3.9/site-packages/numpy/core/_methods.py:179: RuntimeWarning: invalid value encountered in reduce\n",
      "  ret = umr_sum(arr, axis, dtype, out, keepdims, where=where)\n",
      "/var/folders/tk/72g73v7574zcfdyjh6s5zd4m0000gn/T/ipykernel_74282/666093259.py:54: RuntimeWarning: invalid value encountered in subtract\n",
      "  weights -= alpha_given * gradient\n",
      "/var/folders/tk/72g73v7574zcfdyjh6s5zd4m0000gn/T/ipykernel_74282/666093259.py:51: RuntimeWarning: invalid value encountered in matmul\n",
      "  gradient = np.mean([max(0, 1 - y_train[i] * (X_train[i] @ weights)) * (-y_train[i] * X_train[i]).reshape(-1, 1)\n"
     ]
    },
    {
     "name": "stdout",
     "output_type": "stream",
     "text": [
      "Training Accuracy SVM: 0.53\n",
      "Testing Accuracy SVM: 0.55\n",
      "Training Accuracy NBC: 0.24\n",
      "Testing Accuracy NBC: 0.53\n",
      "Training Accuracy LR: 0.83\n",
      "Testing Accuracy LR: 0.73\n"
     ]
    },
    {
     "name": "stderr",
     "output_type": "stream",
     "text": [
      "/Users/ishaanrc/opt/anaconda3/lib/python3.9/site-packages/numpy/core/_methods.py:179: RuntimeWarning: overflow encountered in reduce\n",
      "  ret = umr_sum(arr, axis, dtype, out, keepdims, where=where)\n",
      "/var/folders/tk/72g73v7574zcfdyjh6s5zd4m0000gn/T/ipykernel_74282/666093259.py:51: RuntimeWarning: invalid value encountered in matmul\n",
      "  gradient = np.mean([max(0, 1 - y_train[i] * (X_train[i] @ weights)) * (-y_train[i] * X_train[i]).reshape(-1, 1)\n",
      "/var/folders/tk/72g73v7574zcfdyjh6s5zd4m0000gn/T/ipykernel_74282/666093259.py:51: RuntimeWarning: invalid value encountered in multiply\n",
      "  gradient = np.mean([max(0, 1 - y_train[i] * (X_train[i] @ weights)) * (-y_train[i] * X_train[i]).reshape(-1, 1)\n",
      "/Users/ishaanrc/opt/anaconda3/lib/python3.9/site-packages/numpy/core/_methods.py:179: RuntimeWarning: invalid value encountered in reduce\n",
      "  ret = umr_sum(arr, axis, dtype, out, keepdims, where=where)\n",
      "/var/folders/tk/72g73v7574zcfdyjh6s5zd4m0000gn/T/ipykernel_74282/666093259.py:54: RuntimeWarning: invalid value encountered in subtract\n",
      "  weights -= alpha_given * gradient\n"
     ]
    },
    {
     "name": "stdout",
     "output_type": "stream",
     "text": [
      "Training Accuracy SVM: 0.55\n",
      "Testing Accuracy SVM: 0.57\n",
      "Training Accuracy NBC: 0.21\n",
      "Testing Accuracy NBC: 0.50\n",
      "Training Accuracy LR: 0.84\n",
      "Testing Accuracy LR: 0.65\n"
     ]
    },
    {
     "name": "stderr",
     "output_type": "stream",
     "text": [
      "/Users/ishaanrc/opt/anaconda3/lib/python3.9/site-packages/numpy/core/_methods.py:179: RuntimeWarning: overflow encountered in reduce\n",
      "  ret = umr_sum(arr, axis, dtype, out, keepdims, where=where)\n",
      "/var/folders/tk/72g73v7574zcfdyjh6s5zd4m0000gn/T/ipykernel_74282/666093259.py:51: RuntimeWarning: invalid value encountered in multiply\n",
      "  gradient = np.mean([max(0, 1 - y_train[i] * (X_train[i] @ weights)) * (-y_train[i] * X_train[i]).reshape(-1, 1)\n",
      "/Users/ishaanrc/opt/anaconda3/lib/python3.9/site-packages/numpy/core/_methods.py:179: RuntimeWarning: invalid value encountered in reduce\n",
      "  ret = umr_sum(arr, axis, dtype, out, keepdims, where=where)\n",
      "/var/folders/tk/72g73v7574zcfdyjh6s5zd4m0000gn/T/ipykernel_74282/666093259.py:54: RuntimeWarning: invalid value encountered in subtract\n",
      "  weights -= alpha_given * gradient\n",
      "/var/folders/tk/72g73v7574zcfdyjh6s5zd4m0000gn/T/ipykernel_74282/666093259.py:51: RuntimeWarning: invalid value encountered in matmul\n",
      "  gradient = np.mean([max(0, 1 - y_train[i] * (X_train[i] @ weights)) * (-y_train[i] * X_train[i]).reshape(-1, 1)\n"
     ]
    },
    {
     "name": "stdout",
     "output_type": "stream",
     "text": [
      "Training Accuracy SVM: 0.53\n",
      "Testing Accuracy SVM: 0.54\n",
      "Training Accuracy NBC: 0.21\n",
      "Testing Accuracy NBC: 0.57\n",
      "Training Accuracy LR: 0.68\n",
      "Testing Accuracy LR: 0.59\n"
     ]
    },
    {
     "name": "stderr",
     "output_type": "stream",
     "text": [
      "/Users/ishaanrc/opt/anaconda3/lib/python3.9/site-packages/numpy/core/_methods.py:179: RuntimeWarning: overflow encountered in reduce\n",
      "  ret = umr_sum(arr, axis, dtype, out, keepdims, where=where)\n",
      "/var/folders/tk/72g73v7574zcfdyjh6s5zd4m0000gn/T/ipykernel_74282/666093259.py:51: RuntimeWarning: invalid value encountered in multiply\n",
      "  gradient = np.mean([max(0, 1 - y_train[i] * (X_train[i] @ weights)) * (-y_train[i] * X_train[i]).reshape(-1, 1)\n",
      "/Users/ishaanrc/opt/anaconda3/lib/python3.9/site-packages/numpy/core/_methods.py:179: RuntimeWarning: invalid value encountered in reduce\n",
      "  ret = umr_sum(arr, axis, dtype, out, keepdims, where=where)\n",
      "/var/folders/tk/72g73v7574zcfdyjh6s5zd4m0000gn/T/ipykernel_74282/666093259.py:54: RuntimeWarning: invalid value encountered in subtract\n",
      "  weights -= alpha_given * gradient\n",
      "/var/folders/tk/72g73v7574zcfdyjh6s5zd4m0000gn/T/ipykernel_74282/666093259.py:51: RuntimeWarning: invalid value encountered in matmul\n",
      "  gradient = np.mean([max(0, 1 - y_train[i] * (X_train[i] @ weights)) * (-y_train[i] * X_train[i]).reshape(-1, 1)\n"
     ]
    },
    {
     "name": "stdout",
     "output_type": "stream",
     "text": [
      "Training Accuracy SVM: 0.53\n",
      "Testing Accuracy SVM: 0.57\n",
      "Training Accuracy NBC: 0.21\n",
      "Testing Accuracy NBC: 0.48\n",
      "Training Accuracy LR: 0.68\n",
      "Testing Accuracy LR: 0.69\n"
     ]
    },
    {
     "name": "stderr",
     "output_type": "stream",
     "text": [
      "/Users/ishaanrc/opt/anaconda3/lib/python3.9/site-packages/numpy/core/_methods.py:179: RuntimeWarning: overflow encountered in reduce\n",
      "  ret = umr_sum(arr, axis, dtype, out, keepdims, where=where)\n",
      "/var/folders/tk/72g73v7574zcfdyjh6s5zd4m0000gn/T/ipykernel_74282/666093259.py:51: RuntimeWarning: invalid value encountered in matmul\n",
      "  gradient = np.mean([max(0, 1 - y_train[i] * (X_train[i] @ weights)) * (-y_train[i] * X_train[i]).reshape(-1, 1)\n",
      "/var/folders/tk/72g73v7574zcfdyjh6s5zd4m0000gn/T/ipykernel_74282/666093259.py:51: RuntimeWarning: invalid value encountered in multiply\n",
      "  gradient = np.mean([max(0, 1 - y_train[i] * (X_train[i] @ weights)) * (-y_train[i] * X_train[i]).reshape(-1, 1)\n",
      "/Users/ishaanrc/opt/anaconda3/lib/python3.9/site-packages/numpy/core/_methods.py:179: RuntimeWarning: invalid value encountered in reduce\n",
      "  ret = umr_sum(arr, axis, dtype, out, keepdims, where=where)\n",
      "/var/folders/tk/72g73v7574zcfdyjh6s5zd4m0000gn/T/ipykernel_74282/666093259.py:54: RuntimeWarning: invalid value encountered in subtract\n",
      "  weights -= alpha_given * gradient\n"
     ]
    },
    {
     "name": "stdout",
     "output_type": "stream",
     "text": [
      "Training Accuracy SVM: 0.56\n",
      "Testing Accuracy SVM: 0.59\n",
      "Training Accuracy NBC: 0.20\n",
      "Testing Accuracy NBC: 0.51\n",
      "Training Accuracy LR: 0.74\n",
      "Testing Accuracy LR: 0.60\n"
     ]
    },
    {
     "name": "stderr",
     "output_type": "stream",
     "text": [
      "/Users/ishaanrc/opt/anaconda3/lib/python3.9/site-packages/numpy/core/_methods.py:179: RuntimeWarning: overflow encountered in reduce\n",
      "  ret = umr_sum(arr, axis, dtype, out, keepdims, where=where)\n",
      "/var/folders/tk/72g73v7574zcfdyjh6s5zd4m0000gn/T/ipykernel_74282/666093259.py:51: RuntimeWarning: invalid value encountered in matmul\n",
      "  gradient = np.mean([max(0, 1 - y_train[i] * (X_train[i] @ weights)) * (-y_train[i] * X_train[i]).reshape(-1, 1)\n",
      "/var/folders/tk/72g73v7574zcfdyjh6s5zd4m0000gn/T/ipykernel_74282/666093259.py:51: RuntimeWarning: invalid value encountered in multiply\n",
      "  gradient = np.mean([max(0, 1 - y_train[i] * (X_train[i] @ weights)) * (-y_train[i] * X_train[i]).reshape(-1, 1)\n",
      "/Users/ishaanrc/opt/anaconda3/lib/python3.9/site-packages/numpy/core/_methods.py:179: RuntimeWarning: invalid value encountered in reduce\n",
      "  ret = umr_sum(arr, axis, dtype, out, keepdims, where=where)\n",
      "/var/folders/tk/72g73v7574zcfdyjh6s5zd4m0000gn/T/ipykernel_74282/666093259.py:54: RuntimeWarning: invalid value encountered in subtract\n",
      "  weights -= alpha_given * gradient\n"
     ]
    },
    {
     "name": "stdout",
     "output_type": "stream",
     "text": [
      "Training Accuracy SVM: 0.56\n",
      "Testing Accuracy SVM: 0.57\n",
      "NBC: Avg Accuracy = 0.4917, Std Error = 0.0111\n",
      "LR:  Avg Accuracy = 0.6602, Std Error = 0.0135\n",
      "SVM: Avg Accuracy = 0.5652, Std Error = 0.0061\n",
      "\n",
      "Processing t_frac = 0.050\n",
      "Training Accuracy NBC: 0.29\n",
      "Testing Accuracy NBC: 0.54\n",
      "Training Accuracy LR: 0.65\n",
      "Testing Accuracy LR: 0.62\n"
     ]
    },
    {
     "name": "stderr",
     "output_type": "stream",
     "text": [
      "/Users/ishaanrc/opt/anaconda3/lib/python3.9/site-packages/numpy/core/_methods.py:179: RuntimeWarning: overflow encountered in reduce\n",
      "  ret = umr_sum(arr, axis, dtype, out, keepdims, where=where)\n",
      "/var/folders/tk/72g73v7574zcfdyjh6s5zd4m0000gn/T/ipykernel_74282/666093259.py:51: RuntimeWarning: invalid value encountered in multiply\n",
      "  gradient = np.mean([max(0, 1 - y_train[i] * (X_train[i] @ weights)) * (-y_train[i] * X_train[i]).reshape(-1, 1)\n",
      "/var/folders/tk/72g73v7574zcfdyjh6s5zd4m0000gn/T/ipykernel_74282/666093259.py:51: RuntimeWarning: invalid value encountered in matmul\n",
      "  gradient = np.mean([max(0, 1 - y_train[i] * (X_train[i] @ weights)) * (-y_train[i] * X_train[i]).reshape(-1, 1)\n",
      "/Users/ishaanrc/opt/anaconda3/lib/python3.9/site-packages/numpy/core/_methods.py:179: RuntimeWarning: invalid value encountered in reduce\n",
      "  ret = umr_sum(arr, axis, dtype, out, keepdims, where=where)\n",
      "/var/folders/tk/72g73v7574zcfdyjh6s5zd4m0000gn/T/ipykernel_74282/666093259.py:54: RuntimeWarning: invalid value encountered in subtract\n",
      "  weights -= alpha_given * gradient\n"
     ]
    },
    {
     "name": "stdout",
     "output_type": "stream",
     "text": [
      "Training Accuracy SVM: 0.54\n",
      "Testing Accuracy SVM: 0.53\n",
      "Training Accuracy NBC: 0.32\n",
      "Testing Accuracy NBC: 0.48\n",
      "Training Accuracy LR: 0.71\n",
      "Testing Accuracy LR: 0.62\n"
     ]
    },
    {
     "name": "stderr",
     "output_type": "stream",
     "text": [
      "/Users/ishaanrc/opt/anaconda3/lib/python3.9/site-packages/numpy/core/_methods.py:179: RuntimeWarning: overflow encountered in reduce\n",
      "  ret = umr_sum(arr, axis, dtype, out, keepdims, where=where)\n",
      "/var/folders/tk/72g73v7574zcfdyjh6s5zd4m0000gn/T/ipykernel_74282/666093259.py:51: RuntimeWarning: invalid value encountered in matmul\n",
      "  gradient = np.mean([max(0, 1 - y_train[i] * (X_train[i] @ weights)) * (-y_train[i] * X_train[i]).reshape(-1, 1)\n",
      "/var/folders/tk/72g73v7574zcfdyjh6s5zd4m0000gn/T/ipykernel_74282/666093259.py:51: RuntimeWarning: invalid value encountered in multiply\n",
      "  gradient = np.mean([max(0, 1 - y_train[i] * (X_train[i] @ weights)) * (-y_train[i] * X_train[i]).reshape(-1, 1)\n",
      "/Users/ishaanrc/opt/anaconda3/lib/python3.9/site-packages/numpy/core/_methods.py:179: RuntimeWarning: invalid value encountered in reduce\n",
      "  ret = umr_sum(arr, axis, dtype, out, keepdims, where=where)\n",
      "/var/folders/tk/72g73v7574zcfdyjh6s5zd4m0000gn/T/ipykernel_74282/666093259.py:54: RuntimeWarning: invalid value encountered in subtract\n",
      "  weights -= alpha_given * gradient\n"
     ]
    },
    {
     "name": "stdout",
     "output_type": "stream",
     "text": [
      "Training Accuracy SVM: 0.54\n",
      "Testing Accuracy SVM: 0.60\n",
      "Training Accuracy NBC: 0.32\n",
      "Testing Accuracy NBC: 0.53\n",
      "Training Accuracy LR: 0.69\n",
      "Testing Accuracy LR: 0.63\n"
     ]
    },
    {
     "name": "stderr",
     "output_type": "stream",
     "text": [
      "/Users/ishaanrc/opt/anaconda3/lib/python3.9/site-packages/numpy/core/_methods.py:179: RuntimeWarning: overflow encountered in reduce\n",
      "  ret = umr_sum(arr, axis, dtype, out, keepdims, where=where)\n",
      "/var/folders/tk/72g73v7574zcfdyjh6s5zd4m0000gn/T/ipykernel_74282/666093259.py:51: RuntimeWarning: invalid value encountered in matmul\n",
      "  gradient = np.mean([max(0, 1 - y_train[i] * (X_train[i] @ weights)) * (-y_train[i] * X_train[i]).reshape(-1, 1)\n",
      "/var/folders/tk/72g73v7574zcfdyjh6s5zd4m0000gn/T/ipykernel_74282/666093259.py:51: RuntimeWarning: invalid value encountered in multiply\n",
      "  gradient = np.mean([max(0, 1 - y_train[i] * (X_train[i] @ weights)) * (-y_train[i] * X_train[i]).reshape(-1, 1)\n",
      "/Users/ishaanrc/opt/anaconda3/lib/python3.9/site-packages/numpy/core/_methods.py:179: RuntimeWarning: invalid value encountered in reduce\n",
      "  ret = umr_sum(arr, axis, dtype, out, keepdims, where=where)\n",
      "/var/folders/tk/72g73v7574zcfdyjh6s5zd4m0000gn/T/ipykernel_74282/666093259.py:54: RuntimeWarning: invalid value encountered in subtract\n",
      "  weights -= alpha_given * gradient\n"
     ]
    },
    {
     "name": "stdout",
     "output_type": "stream",
     "text": [
      "Training Accuracy SVM: 0.56\n",
      "Testing Accuracy SVM: 0.57\n",
      "Training Accuracy NBC: 0.36\n",
      "Testing Accuracy NBC: 0.54\n",
      "Training Accuracy LR: 0.70\n",
      "Testing Accuracy LR: 0.68\n"
     ]
    },
    {
     "name": "stderr",
     "output_type": "stream",
     "text": [
      "/Users/ishaanrc/opt/anaconda3/lib/python3.9/site-packages/numpy/core/_methods.py:179: RuntimeWarning: overflow encountered in reduce\n",
      "  ret = umr_sum(arr, axis, dtype, out, keepdims, where=where)\n",
      "/var/folders/tk/72g73v7574zcfdyjh6s5zd4m0000gn/T/ipykernel_74282/666093259.py:51: RuntimeWarning: invalid value encountered in matmul\n",
      "  gradient = np.mean([max(0, 1 - y_train[i] * (X_train[i] @ weights)) * (-y_train[i] * X_train[i]).reshape(-1, 1)\n",
      "/var/folders/tk/72g73v7574zcfdyjh6s5zd4m0000gn/T/ipykernel_74282/666093259.py:51: RuntimeWarning: invalid value encountered in multiply\n",
      "  gradient = np.mean([max(0, 1 - y_train[i] * (X_train[i] @ weights)) * (-y_train[i] * X_train[i]).reshape(-1, 1)\n",
      "/Users/ishaanrc/opt/anaconda3/lib/python3.9/site-packages/numpy/core/_methods.py:179: RuntimeWarning: invalid value encountered in reduce\n",
      "  ret = umr_sum(arr, axis, dtype, out, keepdims, where=where)\n",
      "/var/folders/tk/72g73v7574zcfdyjh6s5zd4m0000gn/T/ipykernel_74282/666093259.py:54: RuntimeWarning: invalid value encountered in subtract\n",
      "  weights -= alpha_given * gradient\n"
     ]
    },
    {
     "name": "stdout",
     "output_type": "stream",
     "text": [
      "Training Accuracy SVM: 0.54\n",
      "Testing Accuracy SVM: 0.56\n",
      "Training Accuracy NBC: 0.30\n",
      "Testing Accuracy NBC: 0.56\n",
      "Training Accuracy LR: 0.66\n",
      "Testing Accuracy LR: 0.62\n"
     ]
    },
    {
     "name": "stderr",
     "output_type": "stream",
     "text": [
      "/Users/ishaanrc/opt/anaconda3/lib/python3.9/site-packages/numpy/core/_methods.py:179: RuntimeWarning: overflow encountered in reduce\n",
      "  ret = umr_sum(arr, axis, dtype, out, keepdims, where=where)\n",
      "/var/folders/tk/72g73v7574zcfdyjh6s5zd4m0000gn/T/ipykernel_74282/666093259.py:51: RuntimeWarning: invalid value encountered in matmul\n",
      "  gradient = np.mean([max(0, 1 - y_train[i] * (X_train[i] @ weights)) * (-y_train[i] * X_train[i]).reshape(-1, 1)\n",
      "/var/folders/tk/72g73v7574zcfdyjh6s5zd4m0000gn/T/ipykernel_74282/666093259.py:51: RuntimeWarning: invalid value encountered in multiply\n",
      "  gradient = np.mean([max(0, 1 - y_train[i] * (X_train[i] @ weights)) * (-y_train[i] * X_train[i]).reshape(-1, 1)\n",
      "/Users/ishaanrc/opt/anaconda3/lib/python3.9/site-packages/numpy/core/_methods.py:179: RuntimeWarning: invalid value encountered in reduce\n",
      "  ret = umr_sum(arr, axis, dtype, out, keepdims, where=where)\n",
      "/var/folders/tk/72g73v7574zcfdyjh6s5zd4m0000gn/T/ipykernel_74282/666093259.py:54: RuntimeWarning: invalid value encountered in subtract\n",
      "  weights -= alpha_given * gradient\n"
     ]
    },
    {
     "name": "stdout",
     "output_type": "stream",
     "text": [
      "Training Accuracy SVM: 0.56\n",
      "Testing Accuracy SVM: 0.55\n",
      "Training Accuracy NBC: 0.31\n",
      "Testing Accuracy NBC: 0.54\n",
      "Training Accuracy LR: 0.73\n",
      "Testing Accuracy LR: 0.68\n"
     ]
    },
    {
     "name": "stderr",
     "output_type": "stream",
     "text": [
      "/Users/ishaanrc/opt/anaconda3/lib/python3.9/site-packages/numpy/core/_methods.py:179: RuntimeWarning: overflow encountered in reduce\n",
      "  ret = umr_sum(arr, axis, dtype, out, keepdims, where=where)\n",
      "/var/folders/tk/72g73v7574zcfdyjh6s5zd4m0000gn/T/ipykernel_74282/666093259.py:51: RuntimeWarning: invalid value encountered in matmul\n",
      "  gradient = np.mean([max(0, 1 - y_train[i] * (X_train[i] @ weights)) * (-y_train[i] * X_train[i]).reshape(-1, 1)\n",
      "/var/folders/tk/72g73v7574zcfdyjh6s5zd4m0000gn/T/ipykernel_74282/666093259.py:51: RuntimeWarning: invalid value encountered in multiply\n",
      "  gradient = np.mean([max(0, 1 - y_train[i] * (X_train[i] @ weights)) * (-y_train[i] * X_train[i]).reshape(-1, 1)\n",
      "/Users/ishaanrc/opt/anaconda3/lib/python3.9/site-packages/numpy/core/_methods.py:179: RuntimeWarning: invalid value encountered in reduce\n",
      "  ret = umr_sum(arr, axis, dtype, out, keepdims, where=where)\n",
      "/var/folders/tk/72g73v7574zcfdyjh6s5zd4m0000gn/T/ipykernel_74282/666093259.py:54: RuntimeWarning: invalid value encountered in subtract\n",
      "  weights -= alpha_given * gradient\n"
     ]
    },
    {
     "name": "stdout",
     "output_type": "stream",
     "text": [
      "Training Accuracy SVM: 0.56\n",
      "Testing Accuracy SVM: 0.57\n",
      "Training Accuracy NBC: 0.29\n",
      "Testing Accuracy NBC: 0.54\n",
      "Training Accuracy LR: 0.73\n",
      "Testing Accuracy LR: 0.62\n"
     ]
    },
    {
     "name": "stderr",
     "output_type": "stream",
     "text": [
      "/Users/ishaanrc/opt/anaconda3/lib/python3.9/site-packages/numpy/core/_methods.py:179: RuntimeWarning: overflow encountered in reduce\n",
      "  ret = umr_sum(arr, axis, dtype, out, keepdims, where=where)\n",
      "/var/folders/tk/72g73v7574zcfdyjh6s5zd4m0000gn/T/ipykernel_74282/666093259.py:51: RuntimeWarning: invalid value encountered in multiply\n",
      "  gradient = np.mean([max(0, 1 - y_train[i] * (X_train[i] @ weights)) * (-y_train[i] * X_train[i]).reshape(-1, 1)\n",
      "/Users/ishaanrc/opt/anaconda3/lib/python3.9/site-packages/numpy/core/_methods.py:179: RuntimeWarning: invalid value encountered in reduce\n",
      "  ret = umr_sum(arr, axis, dtype, out, keepdims, where=where)\n",
      "/var/folders/tk/72g73v7574zcfdyjh6s5zd4m0000gn/T/ipykernel_74282/666093259.py:54: RuntimeWarning: invalid value encountered in subtract\n",
      "  weights -= alpha_given * gradient\n",
      "/var/folders/tk/72g73v7574zcfdyjh6s5zd4m0000gn/T/ipykernel_74282/666093259.py:51: RuntimeWarning: invalid value encountered in matmul\n",
      "  gradient = np.mean([max(0, 1 - y_train[i] * (X_train[i] @ weights)) * (-y_train[i] * X_train[i]).reshape(-1, 1)\n"
     ]
    },
    {
     "name": "stdout",
     "output_type": "stream",
     "text": [
      "Training Accuracy SVM: 0.58\n",
      "Testing Accuracy SVM: 0.54\n",
      "Training Accuracy NBC: 0.31\n",
      "Testing Accuracy NBC: 0.57\n",
      "Training Accuracy LR: 0.72\n",
      "Testing Accuracy LR: 0.68\n"
     ]
    },
    {
     "name": "stderr",
     "output_type": "stream",
     "text": [
      "/Users/ishaanrc/opt/anaconda3/lib/python3.9/site-packages/numpy/core/_methods.py:179: RuntimeWarning: overflow encountered in reduce\n",
      "  ret = umr_sum(arr, axis, dtype, out, keepdims, where=where)\n",
      "/var/folders/tk/72g73v7574zcfdyjh6s5zd4m0000gn/T/ipykernel_74282/666093259.py:51: RuntimeWarning: invalid value encountered in multiply\n",
      "  gradient = np.mean([max(0, 1 - y_train[i] * (X_train[i] @ weights)) * (-y_train[i] * X_train[i]).reshape(-1, 1)\n",
      "/Users/ishaanrc/opt/anaconda3/lib/python3.9/site-packages/numpy/core/_methods.py:179: RuntimeWarning: invalid value encountered in reduce\n",
      "  ret = umr_sum(arr, axis, dtype, out, keepdims, where=where)\n",
      "/var/folders/tk/72g73v7574zcfdyjh6s5zd4m0000gn/T/ipykernel_74282/666093259.py:54: RuntimeWarning: invalid value encountered in subtract\n",
      "  weights -= alpha_given * gradient\n",
      "/var/folders/tk/72g73v7574zcfdyjh6s5zd4m0000gn/T/ipykernel_74282/666093259.py:51: RuntimeWarning: invalid value encountered in matmul\n",
      "  gradient = np.mean([max(0, 1 - y_train[i] * (X_train[i] @ weights)) * (-y_train[i] * X_train[i]).reshape(-1, 1)\n"
     ]
    },
    {
     "name": "stdout",
     "output_type": "stream",
     "text": [
      "Training Accuracy SVM: 0.56\n",
      "Testing Accuracy SVM: 0.57\n",
      "Training Accuracy NBC: 0.27\n",
      "Testing Accuracy NBC: 0.52\n",
      "Training Accuracy LR: 0.68\n",
      "Testing Accuracy LR: 0.69\n"
     ]
    },
    {
     "name": "stderr",
     "output_type": "stream",
     "text": [
      "/Users/ishaanrc/opt/anaconda3/lib/python3.9/site-packages/numpy/core/_methods.py:179: RuntimeWarning: overflow encountered in reduce\n",
      "  ret = umr_sum(arr, axis, dtype, out, keepdims, where=where)\n",
      "/var/folders/tk/72g73v7574zcfdyjh6s5zd4m0000gn/T/ipykernel_74282/666093259.py:51: RuntimeWarning: invalid value encountered in matmul\n",
      "  gradient = np.mean([max(0, 1 - y_train[i] * (X_train[i] @ weights)) * (-y_train[i] * X_train[i]).reshape(-1, 1)\n",
      "/var/folders/tk/72g73v7574zcfdyjh6s5zd4m0000gn/T/ipykernel_74282/666093259.py:51: RuntimeWarning: invalid value encountered in multiply\n",
      "  gradient = np.mean([max(0, 1 - y_train[i] * (X_train[i] @ weights)) * (-y_train[i] * X_train[i]).reshape(-1, 1)\n",
      "/Users/ishaanrc/opt/anaconda3/lib/python3.9/site-packages/numpy/core/_methods.py:179: RuntimeWarning: invalid value encountered in reduce\n",
      "  ret = umr_sum(arr, axis, dtype, out, keepdims, where=where)\n",
      "/var/folders/tk/72g73v7574zcfdyjh6s5zd4m0000gn/T/ipykernel_74282/666093259.py:54: RuntimeWarning: invalid value encountered in subtract\n",
      "  weights -= alpha_given * gradient\n"
     ]
    },
    {
     "name": "stdout",
     "output_type": "stream",
     "text": [
      "Training Accuracy SVM: 0.59\n",
      "Testing Accuracy SVM: 0.59\n",
      "Training Accuracy NBC: 0.26\n",
      "Testing Accuracy NBC: 0.55\n",
      "Training Accuracy LR: 0.71\n",
      "Testing Accuracy LR: 0.63\n"
     ]
    },
    {
     "name": "stderr",
     "output_type": "stream",
     "text": [
      "/Users/ishaanrc/opt/anaconda3/lib/python3.9/site-packages/numpy/core/_methods.py:179: RuntimeWarning: overflow encountered in reduce\n",
      "  ret = umr_sum(arr, axis, dtype, out, keepdims, where=where)\n",
      "/var/folders/tk/72g73v7574zcfdyjh6s5zd4m0000gn/T/ipykernel_74282/666093259.py:51: RuntimeWarning: invalid value encountered in matmul\n",
      "  gradient = np.mean([max(0, 1 - y_train[i] * (X_train[i] @ weights)) * (-y_train[i] * X_train[i]).reshape(-1, 1)\n",
      "/var/folders/tk/72g73v7574zcfdyjh6s5zd4m0000gn/T/ipykernel_74282/666093259.py:51: RuntimeWarning: invalid value encountered in multiply\n",
      "  gradient = np.mean([max(0, 1 - y_train[i] * (X_train[i] @ weights)) * (-y_train[i] * X_train[i]).reshape(-1, 1)\n",
      "/Users/ishaanrc/opt/anaconda3/lib/python3.9/site-packages/numpy/core/_methods.py:179: RuntimeWarning: invalid value encountered in reduce\n",
      "  ret = umr_sum(arr, axis, dtype, out, keepdims, where=where)\n",
      "/var/folders/tk/72g73v7574zcfdyjh6s5zd4m0000gn/T/ipykernel_74282/666093259.py:54: RuntimeWarning: invalid value encountered in subtract\n",
      "  weights -= alpha_given * gradient\n"
     ]
    },
    {
     "name": "stdout",
     "output_type": "stream",
     "text": [
      "Training Accuracy SVM: 0.59\n",
      "Testing Accuracy SVM: 0.57\n",
      "NBC: Avg Accuracy = 0.5360, Std Error = 0.0076\n",
      "LR:  Avg Accuracy = 0.6479, Std Error = 0.0093\n",
      "SVM: Avg Accuracy = 0.5652, Std Error = 0.0061\n",
      "\n",
      "Processing t_frac = 0.075\n",
      "Training Accuracy NBC: 0.37\n",
      "Testing Accuracy NBC: 0.57\n",
      "Training Accuracy LR: 0.67\n",
      "Testing Accuracy LR: 0.64\n"
     ]
    },
    {
     "name": "stderr",
     "output_type": "stream",
     "text": [
      "/Users/ishaanrc/opt/anaconda3/lib/python3.9/site-packages/numpy/core/_methods.py:179: RuntimeWarning: overflow encountered in reduce\n",
      "  ret = umr_sum(arr, axis, dtype, out, keepdims, where=where)\n",
      "/var/folders/tk/72g73v7574zcfdyjh6s5zd4m0000gn/T/ipykernel_74282/666093259.py:51: RuntimeWarning: invalid value encountered in multiply\n",
      "  gradient = np.mean([max(0, 1 - y_train[i] * (X_train[i] @ weights)) * (-y_train[i] * X_train[i]).reshape(-1, 1)\n",
      "/var/folders/tk/72g73v7574zcfdyjh6s5zd4m0000gn/T/ipykernel_74282/666093259.py:51: RuntimeWarning: invalid value encountered in matmul\n",
      "  gradient = np.mean([max(0, 1 - y_train[i] * (X_train[i] @ weights)) * (-y_train[i] * X_train[i]).reshape(-1, 1)\n",
      "/Users/ishaanrc/opt/anaconda3/lib/python3.9/site-packages/numpy/core/_methods.py:179: RuntimeWarning: invalid value encountered in reduce\n",
      "  ret = umr_sum(arr, axis, dtype, out, keepdims, where=where)\n",
      "/var/folders/tk/72g73v7574zcfdyjh6s5zd4m0000gn/T/ipykernel_74282/666093259.py:54: RuntimeWarning: invalid value encountered in subtract\n",
      "  weights -= alpha_given * gradient\n"
     ]
    },
    {
     "name": "stdout",
     "output_type": "stream",
     "text": [
      "Training Accuracy SVM: 0.55\n",
      "Testing Accuracy SVM: 0.53\n",
      "Training Accuracy NBC: 0.37\n",
      "Testing Accuracy NBC: 0.53\n",
      "Training Accuracy LR: 0.68\n",
      "Testing Accuracy LR: 0.70\n"
     ]
    },
    {
     "name": "stderr",
     "output_type": "stream",
     "text": [
      "/Users/ishaanrc/opt/anaconda3/lib/python3.9/site-packages/numpy/core/_methods.py:179: RuntimeWarning: overflow encountered in reduce\n",
      "  ret = umr_sum(arr, axis, dtype, out, keepdims, where=where)\n",
      "/var/folders/tk/72g73v7574zcfdyjh6s5zd4m0000gn/T/ipykernel_74282/666093259.py:51: RuntimeWarning: invalid value encountered in matmul\n",
      "  gradient = np.mean([max(0, 1 - y_train[i] * (X_train[i] @ weights)) * (-y_train[i] * X_train[i]).reshape(-1, 1)\n",
      "/var/folders/tk/72g73v7574zcfdyjh6s5zd4m0000gn/T/ipykernel_74282/666093259.py:51: RuntimeWarning: invalid value encountered in multiply\n",
      "  gradient = np.mean([max(0, 1 - y_train[i] * (X_train[i] @ weights)) * (-y_train[i] * X_train[i]).reshape(-1, 1)\n",
      "/Users/ishaanrc/opt/anaconda3/lib/python3.9/site-packages/numpy/core/_methods.py:179: RuntimeWarning: invalid value encountered in reduce\n",
      "  ret = umr_sum(arr, axis, dtype, out, keepdims, where=where)\n",
      "/var/folders/tk/72g73v7574zcfdyjh6s5zd4m0000gn/T/ipykernel_74282/666093259.py:54: RuntimeWarning: invalid value encountered in subtract\n",
      "  weights -= alpha_given * gradient\n"
     ]
    },
    {
     "name": "stdout",
     "output_type": "stream",
     "text": [
      "Training Accuracy SVM: 0.54\n",
      "Testing Accuracy SVM: 0.60\n",
      "Training Accuracy NBC: 0.38\n",
      "Testing Accuracy NBC: 0.55\n",
      "Training Accuracy LR: 0.66\n",
      "Testing Accuracy LR: 0.61\n"
     ]
    },
    {
     "name": "stderr",
     "output_type": "stream",
     "text": [
      "/Users/ishaanrc/opt/anaconda3/lib/python3.9/site-packages/numpy/core/_methods.py:179: RuntimeWarning: overflow encountered in reduce\n",
      "  ret = umr_sum(arr, axis, dtype, out, keepdims, where=where)\n",
      "/var/folders/tk/72g73v7574zcfdyjh6s5zd4m0000gn/T/ipykernel_74282/666093259.py:51: RuntimeWarning: invalid value encountered in matmul\n",
      "  gradient = np.mean([max(0, 1 - y_train[i] * (X_train[i] @ weights)) * (-y_train[i] * X_train[i]).reshape(-1, 1)\n",
      "/var/folders/tk/72g73v7574zcfdyjh6s5zd4m0000gn/T/ipykernel_74282/666093259.py:51: RuntimeWarning: invalid value encountered in multiply\n",
      "  gradient = np.mean([max(0, 1 - y_train[i] * (X_train[i] @ weights)) * (-y_train[i] * X_train[i]).reshape(-1, 1)\n",
      "/Users/ishaanrc/opt/anaconda3/lib/python3.9/site-packages/numpy/core/_methods.py:179: RuntimeWarning: invalid value encountered in reduce\n",
      "  ret = umr_sum(arr, axis, dtype, out, keepdims, where=where)\n",
      "/var/folders/tk/72g73v7574zcfdyjh6s5zd4m0000gn/T/ipykernel_74282/666093259.py:54: RuntimeWarning: invalid value encountered in subtract\n",
      "  weights -= alpha_given * gradient\n"
     ]
    },
    {
     "name": "stdout",
     "output_type": "stream",
     "text": [
      "Training Accuracy SVM: 0.56\n",
      "Testing Accuracy SVM: 0.57\n",
      "Training Accuracy NBC: 0.40\n",
      "Testing Accuracy NBC: 0.59\n",
      "Training Accuracy LR: 0.67\n",
      "Testing Accuracy LR: 0.69\n"
     ]
    },
    {
     "name": "stderr",
     "output_type": "stream",
     "text": [
      "/Users/ishaanrc/opt/anaconda3/lib/python3.9/site-packages/numpy/core/_methods.py:179: RuntimeWarning: overflow encountered in reduce\n",
      "  ret = umr_sum(arr, axis, dtype, out, keepdims, where=where)\n",
      "/var/folders/tk/72g73v7574zcfdyjh6s5zd4m0000gn/T/ipykernel_74282/666093259.py:51: RuntimeWarning: invalid value encountered in matmul\n",
      "  gradient = np.mean([max(0, 1 - y_train[i] * (X_train[i] @ weights)) * (-y_train[i] * X_train[i]).reshape(-1, 1)\n",
      "/var/folders/tk/72g73v7574zcfdyjh6s5zd4m0000gn/T/ipykernel_74282/666093259.py:51: RuntimeWarning: invalid value encountered in multiply\n",
      "  gradient = np.mean([max(0, 1 - y_train[i] * (X_train[i] @ weights)) * (-y_train[i] * X_train[i]).reshape(-1, 1)\n",
      "/Users/ishaanrc/opt/anaconda3/lib/python3.9/site-packages/numpy/core/_methods.py:179: RuntimeWarning: invalid value encountered in reduce\n",
      "  ret = umr_sum(arr, axis, dtype, out, keepdims, where=where)\n",
      "/var/folders/tk/72g73v7574zcfdyjh6s5zd4m0000gn/T/ipykernel_74282/666093259.py:54: RuntimeWarning: invalid value encountered in subtract\n",
      "  weights -= alpha_given * gradient\n"
     ]
    },
    {
     "name": "stdout",
     "output_type": "stream",
     "text": [
      "Training Accuracy SVM: 0.54\n",
      "Testing Accuracy SVM: 0.56\n",
      "Training Accuracy NBC: 0.38\n",
      "Testing Accuracy NBC: 0.57\n",
      "Training Accuracy LR: 0.71\n",
      "Testing Accuracy LR: 0.70\n"
     ]
    },
    {
     "name": "stderr",
     "output_type": "stream",
     "text": [
      "/Users/ishaanrc/opt/anaconda3/lib/python3.9/site-packages/numpy/core/_methods.py:179: RuntimeWarning: overflow encountered in reduce\n",
      "  ret = umr_sum(arr, axis, dtype, out, keepdims, where=where)\n",
      "/var/folders/tk/72g73v7574zcfdyjh6s5zd4m0000gn/T/ipykernel_74282/666093259.py:51: RuntimeWarning: invalid value encountered in matmul\n",
      "  gradient = np.mean([max(0, 1 - y_train[i] * (X_train[i] @ weights)) * (-y_train[i] * X_train[i]).reshape(-1, 1)\n",
      "/var/folders/tk/72g73v7574zcfdyjh6s5zd4m0000gn/T/ipykernel_74282/666093259.py:51: RuntimeWarning: invalid value encountered in multiply\n",
      "  gradient = np.mean([max(0, 1 - y_train[i] * (X_train[i] @ weights)) * (-y_train[i] * X_train[i]).reshape(-1, 1)\n",
      "/Users/ishaanrc/opt/anaconda3/lib/python3.9/site-packages/numpy/core/_methods.py:179: RuntimeWarning: invalid value encountered in reduce\n",
      "  ret = umr_sum(arr, axis, dtype, out, keepdims, where=where)\n",
      "/var/folders/tk/72g73v7574zcfdyjh6s5zd4m0000gn/T/ipykernel_74282/666093259.py:54: RuntimeWarning: invalid value encountered in subtract\n",
      "  weights -= alpha_given * gradient\n"
     ]
    },
    {
     "name": "stdout",
     "output_type": "stream",
     "text": [
      "Training Accuracy SVM: 0.57\n",
      "Testing Accuracy SVM: 0.55\n",
      "Training Accuracy NBC: 0.40\n",
      "Testing Accuracy NBC: 0.55\n",
      "Training Accuracy LR: 0.70\n",
      "Testing Accuracy LR: 0.70\n"
     ]
    },
    {
     "name": "stderr",
     "output_type": "stream",
     "text": [
      "/Users/ishaanrc/opt/anaconda3/lib/python3.9/site-packages/numpy/core/_methods.py:179: RuntimeWarning: overflow encountered in reduce\n",
      "  ret = umr_sum(arr, axis, dtype, out, keepdims, where=where)\n",
      "/var/folders/tk/72g73v7574zcfdyjh6s5zd4m0000gn/T/ipykernel_74282/666093259.py:51: RuntimeWarning: invalid value encountered in matmul\n",
      "  gradient = np.mean([max(0, 1 - y_train[i] * (X_train[i] @ weights)) * (-y_train[i] * X_train[i]).reshape(-1, 1)\n",
      "/var/folders/tk/72g73v7574zcfdyjh6s5zd4m0000gn/T/ipykernel_74282/666093259.py:51: RuntimeWarning: invalid value encountered in multiply\n",
      "  gradient = np.mean([max(0, 1 - y_train[i] * (X_train[i] @ weights)) * (-y_train[i] * X_train[i]).reshape(-1, 1)\n",
      "/Users/ishaanrc/opt/anaconda3/lib/python3.9/site-packages/numpy/core/_methods.py:179: RuntimeWarning: invalid value encountered in reduce\n",
      "  ret = umr_sum(arr, axis, dtype, out, keepdims, where=where)\n",
      "/var/folders/tk/72g73v7574zcfdyjh6s5zd4m0000gn/T/ipykernel_74282/666093259.py:54: RuntimeWarning: invalid value encountered in subtract\n",
      "  weights -= alpha_given * gradient\n"
     ]
    },
    {
     "name": "stdout",
     "output_type": "stream",
     "text": [
      "Training Accuracy SVM: 0.56\n",
      "Testing Accuracy SVM: 0.57\n",
      "Training Accuracy NBC: 0.38\n",
      "Testing Accuracy NBC: 0.53\n",
      "Training Accuracy LR: 0.70\n",
      "Testing Accuracy LR: 0.62\n"
     ]
    },
    {
     "name": "stderr",
     "output_type": "stream",
     "text": [
      "/Users/ishaanrc/opt/anaconda3/lib/python3.9/site-packages/numpy/core/_methods.py:179: RuntimeWarning: overflow encountered in reduce\n",
      "  ret = umr_sum(arr, axis, dtype, out, keepdims, where=where)\n",
      "/var/folders/tk/72g73v7574zcfdyjh6s5zd4m0000gn/T/ipykernel_74282/666093259.py:51: RuntimeWarning: invalid value encountered in multiply\n",
      "  gradient = np.mean([max(0, 1 - y_train[i] * (X_train[i] @ weights)) * (-y_train[i] * X_train[i]).reshape(-1, 1)\n",
      "/Users/ishaanrc/opt/anaconda3/lib/python3.9/site-packages/numpy/core/_methods.py:179: RuntimeWarning: invalid value encountered in reduce\n",
      "  ret = umr_sum(arr, axis, dtype, out, keepdims, where=where)\n",
      "/var/folders/tk/72g73v7574zcfdyjh6s5zd4m0000gn/T/ipykernel_74282/666093259.py:54: RuntimeWarning: invalid value encountered in subtract\n",
      "  weights -= alpha_given * gradient\n",
      "/var/folders/tk/72g73v7574zcfdyjh6s5zd4m0000gn/T/ipykernel_74282/666093259.py:51: RuntimeWarning: invalid value encountered in matmul\n",
      "  gradient = np.mean([max(0, 1 - y_train[i] * (X_train[i] @ weights)) * (-y_train[i] * X_train[i]).reshape(-1, 1)\n"
     ]
    },
    {
     "name": "stdout",
     "output_type": "stream",
     "text": [
      "Training Accuracy SVM: 0.58\n",
      "Testing Accuracy SVM: 0.54\n",
      "Training Accuracy NBC: 0.36\n",
      "Testing Accuracy NBC: 0.58\n",
      "Training Accuracy LR: 0.69\n",
      "Testing Accuracy LR: 0.65\n"
     ]
    },
    {
     "name": "stderr",
     "output_type": "stream",
     "text": [
      "/Users/ishaanrc/opt/anaconda3/lib/python3.9/site-packages/numpy/core/_methods.py:179: RuntimeWarning: overflow encountered in reduce\n",
      "  ret = umr_sum(arr, axis, dtype, out, keepdims, where=where)\n",
      "/var/folders/tk/72g73v7574zcfdyjh6s5zd4m0000gn/T/ipykernel_74282/666093259.py:51: RuntimeWarning: invalid value encountered in matmul\n",
      "  gradient = np.mean([max(0, 1 - y_train[i] * (X_train[i] @ weights)) * (-y_train[i] * X_train[i]).reshape(-1, 1)\n",
      "/var/folders/tk/72g73v7574zcfdyjh6s5zd4m0000gn/T/ipykernel_74282/666093259.py:51: RuntimeWarning: invalid value encountered in multiply\n",
      "  gradient = np.mean([max(0, 1 - y_train[i] * (X_train[i] @ weights)) * (-y_train[i] * X_train[i]).reshape(-1, 1)\n",
      "/Users/ishaanrc/opt/anaconda3/lib/python3.9/site-packages/numpy/core/_methods.py:179: RuntimeWarning: invalid value encountered in reduce\n",
      "  ret = umr_sum(arr, axis, dtype, out, keepdims, where=where)\n",
      "/var/folders/tk/72g73v7574zcfdyjh6s5zd4m0000gn/T/ipykernel_74282/666093259.py:54: RuntimeWarning: invalid value encountered in subtract\n",
      "  weights -= alpha_given * gradient\n"
     ]
    },
    {
     "name": "stdout",
     "output_type": "stream",
     "text": [
      "Training Accuracy SVM: 0.57\n",
      "Testing Accuracy SVM: 0.57\n",
      "Training Accuracy NBC: 0.37\n",
      "Testing Accuracy NBC: 0.53\n",
      "Training Accuracy LR: 0.74\n",
      "Testing Accuracy LR: 0.66\n"
     ]
    },
    {
     "name": "stderr",
     "output_type": "stream",
     "text": [
      "/Users/ishaanrc/opt/anaconda3/lib/python3.9/site-packages/numpy/core/_methods.py:179: RuntimeWarning: overflow encountered in reduce\n",
      "  ret = umr_sum(arr, axis, dtype, out, keepdims, where=where)\n",
      "/var/folders/tk/72g73v7574zcfdyjh6s5zd4m0000gn/T/ipykernel_74282/666093259.py:51: RuntimeWarning: invalid value encountered in matmul\n",
      "  gradient = np.mean([max(0, 1 - y_train[i] * (X_train[i] @ weights)) * (-y_train[i] * X_train[i]).reshape(-1, 1)\n",
      "/var/folders/tk/72g73v7574zcfdyjh6s5zd4m0000gn/T/ipykernel_74282/666093259.py:51: RuntimeWarning: invalid value encountered in multiply\n",
      "  gradient = np.mean([max(0, 1 - y_train[i] * (X_train[i] @ weights)) * (-y_train[i] * X_train[i]).reshape(-1, 1)\n",
      "/Users/ishaanrc/opt/anaconda3/lib/python3.9/site-packages/numpy/core/_methods.py:179: RuntimeWarning: invalid value encountered in reduce\n",
      "  ret = umr_sum(arr, axis, dtype, out, keepdims, where=where)\n",
      "/var/folders/tk/72g73v7574zcfdyjh6s5zd4m0000gn/T/ipykernel_74282/666093259.py:54: RuntimeWarning: invalid value encountered in subtract\n",
      "  weights -= alpha_given * gradient\n"
     ]
    },
    {
     "name": "stdout",
     "output_type": "stream",
     "text": [
      "Training Accuracy SVM: 0.59\n",
      "Testing Accuracy SVM: 0.59\n",
      "Training Accuracy NBC: 0.36\n",
      "Testing Accuracy NBC: 0.54\n",
      "Training Accuracy LR: 0.74\n",
      "Testing Accuracy LR: 0.66\n"
     ]
    },
    {
     "name": "stderr",
     "output_type": "stream",
     "text": [
      "/Users/ishaanrc/opt/anaconda3/lib/python3.9/site-packages/numpy/core/_methods.py:179: RuntimeWarning: overflow encountered in reduce\n",
      "  ret = umr_sum(arr, axis, dtype, out, keepdims, where=where)\n",
      "/var/folders/tk/72g73v7574zcfdyjh6s5zd4m0000gn/T/ipykernel_74282/666093259.py:51: RuntimeWarning: invalid value encountered in matmul\n",
      "  gradient = np.mean([max(0, 1 - y_train[i] * (X_train[i] @ weights)) * (-y_train[i] * X_train[i]).reshape(-1, 1)\n",
      "/var/folders/tk/72g73v7574zcfdyjh6s5zd4m0000gn/T/ipykernel_74282/666093259.py:51: RuntimeWarning: invalid value encountered in multiply\n",
      "  gradient = np.mean([max(0, 1 - y_train[i] * (X_train[i] @ weights)) * (-y_train[i] * X_train[i]).reshape(-1, 1)\n",
      "/Users/ishaanrc/opt/anaconda3/lib/python3.9/site-packages/numpy/core/_methods.py:179: RuntimeWarning: invalid value encountered in reduce\n",
      "  ret = umr_sum(arr, axis, dtype, out, keepdims, where=where)\n",
      "/var/folders/tk/72g73v7574zcfdyjh6s5zd4m0000gn/T/ipykernel_74282/666093259.py:54: RuntimeWarning: invalid value encountered in subtract\n",
      "  weights -= alpha_given * gradient\n"
     ]
    },
    {
     "name": "stdout",
     "output_type": "stream",
     "text": [
      "Training Accuracy SVM: 0.58\n",
      "Testing Accuracy SVM: 0.57\n",
      "NBC: Avg Accuracy = 0.5542, Std Error = 0.0069\n",
      "LR:  Avg Accuracy = 0.6625, Std Error = 0.0104\n",
      "SVM: Avg Accuracy = 0.5652, Std Error = 0.0061\n",
      "\n",
      "Processing t_frac = 0.100\n",
      "Training Accuracy NBC: 0.41\n",
      "Testing Accuracy NBC: 0.60\n",
      "Training Accuracy LR: 0.67\n",
      "Testing Accuracy LR: 0.68\n"
     ]
    },
    {
     "name": "stderr",
     "output_type": "stream",
     "text": [
      "/Users/ishaanrc/opt/anaconda3/lib/python3.9/site-packages/numpy/core/_methods.py:179: RuntimeWarning: overflow encountered in reduce\n",
      "  ret = umr_sum(arr, axis, dtype, out, keepdims, where=where)\n",
      "/var/folders/tk/72g73v7574zcfdyjh6s5zd4m0000gn/T/ipykernel_74282/666093259.py:51: RuntimeWarning: invalid value encountered in multiply\n",
      "  gradient = np.mean([max(0, 1 - y_train[i] * (X_train[i] @ weights)) * (-y_train[i] * X_train[i]).reshape(-1, 1)\n",
      "/var/folders/tk/72g73v7574zcfdyjh6s5zd4m0000gn/T/ipykernel_74282/666093259.py:51: RuntimeWarning: invalid value encountered in matmul\n",
      "  gradient = np.mean([max(0, 1 - y_train[i] * (X_train[i] @ weights)) * (-y_train[i] * X_train[i]).reshape(-1, 1)\n",
      "/Users/ishaanrc/opt/anaconda3/lib/python3.9/site-packages/numpy/core/_methods.py:179: RuntimeWarning: invalid value encountered in reduce\n",
      "  ret = umr_sum(arr, axis, dtype, out, keepdims, where=where)\n",
      "/var/folders/tk/72g73v7574zcfdyjh6s5zd4m0000gn/T/ipykernel_74282/666093259.py:54: RuntimeWarning: invalid value encountered in subtract\n",
      "  weights -= alpha_given * gradient\n"
     ]
    },
    {
     "name": "stdout",
     "output_type": "stream",
     "text": [
      "Training Accuracy SVM: 0.57\n",
      "Testing Accuracy SVM: 0.53\n",
      "Training Accuracy NBC: 0.43\n",
      "Testing Accuracy NBC: 0.53\n",
      "Training Accuracy LR: 0.68\n",
      "Testing Accuracy LR: 0.70\n"
     ]
    },
    {
     "name": "stderr",
     "output_type": "stream",
     "text": [
      "/Users/ishaanrc/opt/anaconda3/lib/python3.9/site-packages/numpy/core/_methods.py:179: RuntimeWarning: overflow encountered in reduce\n",
      "  ret = umr_sum(arr, axis, dtype, out, keepdims, where=where)\n",
      "/var/folders/tk/72g73v7574zcfdyjh6s5zd4m0000gn/T/ipykernel_74282/666093259.py:51: RuntimeWarning: invalid value encountered in matmul\n",
      "  gradient = np.mean([max(0, 1 - y_train[i] * (X_train[i] @ weights)) * (-y_train[i] * X_train[i]).reshape(-1, 1)\n",
      "/var/folders/tk/72g73v7574zcfdyjh6s5zd4m0000gn/T/ipykernel_74282/666093259.py:51: RuntimeWarning: invalid value encountered in multiply\n",
      "  gradient = np.mean([max(0, 1 - y_train[i] * (X_train[i] @ weights)) * (-y_train[i] * X_train[i]).reshape(-1, 1)\n",
      "/Users/ishaanrc/opt/anaconda3/lib/python3.9/site-packages/numpy/core/_methods.py:179: RuntimeWarning: invalid value encountered in reduce\n",
      "  ret = umr_sum(arr, axis, dtype, out, keepdims, where=where)\n",
      "/var/folders/tk/72g73v7574zcfdyjh6s5zd4m0000gn/T/ipykernel_74282/666093259.py:54: RuntimeWarning: invalid value encountered in subtract\n",
      "  weights -= alpha_given * gradient\n"
     ]
    },
    {
     "name": "stdout",
     "output_type": "stream",
     "text": [
      "Training Accuracy SVM: 0.57\n",
      "Testing Accuracy SVM: 0.60\n",
      "Training Accuracy NBC: 0.41\n",
      "Testing Accuracy NBC: 0.53\n",
      "Training Accuracy LR: 0.68\n",
      "Testing Accuracy LR: 0.69\n"
     ]
    },
    {
     "name": "stderr",
     "output_type": "stream",
     "text": [
      "/Users/ishaanrc/opt/anaconda3/lib/python3.9/site-packages/numpy/core/_methods.py:179: RuntimeWarning: overflow encountered in reduce\n",
      "  ret = umr_sum(arr, axis, dtype, out, keepdims, where=where)\n",
      "/var/folders/tk/72g73v7574zcfdyjh6s5zd4m0000gn/T/ipykernel_74282/666093259.py:51: RuntimeWarning: invalid value encountered in matmul\n",
      "  gradient = np.mean([max(0, 1 - y_train[i] * (X_train[i] @ weights)) * (-y_train[i] * X_train[i]).reshape(-1, 1)\n",
      "/var/folders/tk/72g73v7574zcfdyjh6s5zd4m0000gn/T/ipykernel_74282/666093259.py:51: RuntimeWarning: invalid value encountered in multiply\n",
      "  gradient = np.mean([max(0, 1 - y_train[i] * (X_train[i] @ weights)) * (-y_train[i] * X_train[i]).reshape(-1, 1)\n",
      "/Users/ishaanrc/opt/anaconda3/lib/python3.9/site-packages/numpy/core/_methods.py:179: RuntimeWarning: invalid value encountered in reduce\n",
      "  ret = umr_sum(arr, axis, dtype, out, keepdims, where=where)\n",
      "/var/folders/tk/72g73v7574zcfdyjh6s5zd4m0000gn/T/ipykernel_74282/666093259.py:54: RuntimeWarning: invalid value encountered in subtract\n",
      "  weights -= alpha_given * gradient\n"
     ]
    },
    {
     "name": "stdout",
     "output_type": "stream",
     "text": [
      "Training Accuracy SVM: 0.57\n",
      "Testing Accuracy SVM: 0.57\n",
      "Training Accuracy NBC: 0.42\n",
      "Testing Accuracy NBC: 0.55\n",
      "Training Accuracy LR: 0.68\n",
      "Testing Accuracy LR: 0.71\n"
     ]
    },
    {
     "name": "stderr",
     "output_type": "stream",
     "text": [
      "/Users/ishaanrc/opt/anaconda3/lib/python3.9/site-packages/numpy/core/_methods.py:179: RuntimeWarning: overflow encountered in reduce\n",
      "  ret = umr_sum(arr, axis, dtype, out, keepdims, where=where)\n",
      "/var/folders/tk/72g73v7574zcfdyjh6s5zd4m0000gn/T/ipykernel_74282/666093259.py:51: RuntimeWarning: invalid value encountered in matmul\n",
      "  gradient = np.mean([max(0, 1 - y_train[i] * (X_train[i] @ weights)) * (-y_train[i] * X_train[i]).reshape(-1, 1)\n",
      "/var/folders/tk/72g73v7574zcfdyjh6s5zd4m0000gn/T/ipykernel_74282/666093259.py:51: RuntimeWarning: invalid value encountered in multiply\n",
      "  gradient = np.mean([max(0, 1 - y_train[i] * (X_train[i] @ weights)) * (-y_train[i] * X_train[i]).reshape(-1, 1)\n",
      "/Users/ishaanrc/opt/anaconda3/lib/python3.9/site-packages/numpy/core/_methods.py:179: RuntimeWarning: invalid value encountered in reduce\n",
      "  ret = umr_sum(arr, axis, dtype, out, keepdims, where=where)\n",
      "/var/folders/tk/72g73v7574zcfdyjh6s5zd4m0000gn/T/ipykernel_74282/666093259.py:54: RuntimeWarning: invalid value encountered in subtract\n",
      "  weights -= alpha_given * gradient\n"
     ]
    },
    {
     "name": "stdout",
     "output_type": "stream",
     "text": [
      "Training Accuracy SVM: 0.57\n",
      "Testing Accuracy SVM: 0.56\n",
      "Training Accuracy NBC: 0.43\n",
      "Testing Accuracy NBC: 0.58\n",
      "Training Accuracy LR: 0.68\n",
      "Testing Accuracy LR: 0.68\n"
     ]
    },
    {
     "name": "stderr",
     "output_type": "stream",
     "text": [
      "/Users/ishaanrc/opt/anaconda3/lib/python3.9/site-packages/numpy/core/_methods.py:179: RuntimeWarning: overflow encountered in reduce\n",
      "  ret = umr_sum(arr, axis, dtype, out, keepdims, where=where)\n",
      "/var/folders/tk/72g73v7574zcfdyjh6s5zd4m0000gn/T/ipykernel_74282/666093259.py:51: RuntimeWarning: invalid value encountered in matmul\n",
      "  gradient = np.mean([max(0, 1 - y_train[i] * (X_train[i] @ weights)) * (-y_train[i] * X_train[i]).reshape(-1, 1)\n",
      "/var/folders/tk/72g73v7574zcfdyjh6s5zd4m0000gn/T/ipykernel_74282/666093259.py:51: RuntimeWarning: invalid value encountered in multiply\n",
      "  gradient = np.mean([max(0, 1 - y_train[i] * (X_train[i] @ weights)) * (-y_train[i] * X_train[i]).reshape(-1, 1)\n",
      "/Users/ishaanrc/opt/anaconda3/lib/python3.9/site-packages/numpy/core/_methods.py:179: RuntimeWarning: invalid value encountered in reduce\n",
      "  ret = umr_sum(arr, axis, dtype, out, keepdims, where=where)\n",
      "/var/folders/tk/72g73v7574zcfdyjh6s5zd4m0000gn/T/ipykernel_74282/666093259.py:54: RuntimeWarning: invalid value encountered in subtract\n",
      "  weights -= alpha_given * gradient\n"
     ]
    },
    {
     "name": "stdout",
     "output_type": "stream",
     "text": [
      "Training Accuracy SVM: 0.58\n",
      "Testing Accuracy SVM: 0.55\n",
      "Training Accuracy NBC: 0.44\n",
      "Testing Accuracy NBC: 0.54\n",
      "Training Accuracy LR: 0.70\n",
      "Testing Accuracy LR: 0.68\n"
     ]
    },
    {
     "name": "stderr",
     "output_type": "stream",
     "text": [
      "/Users/ishaanrc/opt/anaconda3/lib/python3.9/site-packages/numpy/core/_methods.py:179: RuntimeWarning: overflow encountered in reduce\n",
      "  ret = umr_sum(arr, axis, dtype, out, keepdims, where=where)\n",
      "/var/folders/tk/72g73v7574zcfdyjh6s5zd4m0000gn/T/ipykernel_74282/666093259.py:51: RuntimeWarning: invalid value encountered in matmul\n",
      "  gradient = np.mean([max(0, 1 - y_train[i] * (X_train[i] @ weights)) * (-y_train[i] * X_train[i]).reshape(-1, 1)\n",
      "/var/folders/tk/72g73v7574zcfdyjh6s5zd4m0000gn/T/ipykernel_74282/666093259.py:51: RuntimeWarning: invalid value encountered in multiply\n",
      "  gradient = np.mean([max(0, 1 - y_train[i] * (X_train[i] @ weights)) * (-y_train[i] * X_train[i]).reshape(-1, 1)\n",
      "/Users/ishaanrc/opt/anaconda3/lib/python3.9/site-packages/numpy/core/_methods.py:179: RuntimeWarning: invalid value encountered in reduce\n",
      "  ret = umr_sum(arr, axis, dtype, out, keepdims, where=where)\n",
      "/var/folders/tk/72g73v7574zcfdyjh6s5zd4m0000gn/T/ipykernel_74282/666093259.py:54: RuntimeWarning: invalid value encountered in subtract\n",
      "  weights -= alpha_given * gradient\n"
     ]
    },
    {
     "name": "stdout",
     "output_type": "stream",
     "text": [
      "Training Accuracy SVM: 0.57\n",
      "Testing Accuracy SVM: 0.57\n",
      "Training Accuracy NBC: 0.43\n",
      "Testing Accuracy NBC: 0.56\n",
      "Training Accuracy LR: 0.67\n",
      "Testing Accuracy LR: 0.65\n"
     ]
    },
    {
     "name": "stderr",
     "output_type": "stream",
     "text": [
      "/Users/ishaanrc/opt/anaconda3/lib/python3.9/site-packages/numpy/core/_methods.py:179: RuntimeWarning: overflow encountered in reduce\n",
      "  ret = umr_sum(arr, axis, dtype, out, keepdims, where=where)\n",
      "/var/folders/tk/72g73v7574zcfdyjh6s5zd4m0000gn/T/ipykernel_74282/666093259.py:51: RuntimeWarning: invalid value encountered in matmul\n",
      "  gradient = np.mean([max(0, 1 - y_train[i] * (X_train[i] @ weights)) * (-y_train[i] * X_train[i]).reshape(-1, 1)\n",
      "/var/folders/tk/72g73v7574zcfdyjh6s5zd4m0000gn/T/ipykernel_74282/666093259.py:51: RuntimeWarning: invalid value encountered in multiply\n",
      "  gradient = np.mean([max(0, 1 - y_train[i] * (X_train[i] @ weights)) * (-y_train[i] * X_train[i]).reshape(-1, 1)\n",
      "/Users/ishaanrc/opt/anaconda3/lib/python3.9/site-packages/numpy/core/_methods.py:179: RuntimeWarning: invalid value encountered in reduce\n",
      "  ret = umr_sum(arr, axis, dtype, out, keepdims, where=where)\n",
      "/var/folders/tk/72g73v7574zcfdyjh6s5zd4m0000gn/T/ipykernel_74282/666093259.py:54: RuntimeWarning: invalid value encountered in subtract\n",
      "  weights -= alpha_given * gradient\n"
     ]
    },
    {
     "name": "stdout",
     "output_type": "stream",
     "text": [
      "Training Accuracy SVM: 0.58\n",
      "Testing Accuracy SVM: 0.54\n",
      "Training Accuracy NBC: 0.41\n",
      "Testing Accuracy NBC: 0.57\n",
      "Training Accuracy LR: 0.68\n",
      "Testing Accuracy LR: 0.67\n"
     ]
    },
    {
     "name": "stderr",
     "output_type": "stream",
     "text": [
      "/Users/ishaanrc/opt/anaconda3/lib/python3.9/site-packages/numpy/core/_methods.py:179: RuntimeWarning: overflow encountered in reduce\n",
      "  ret = umr_sum(arr, axis, dtype, out, keepdims, where=where)\n",
      "/var/folders/tk/72g73v7574zcfdyjh6s5zd4m0000gn/T/ipykernel_74282/666093259.py:51: RuntimeWarning: invalid value encountered in matmul\n",
      "  gradient = np.mean([max(0, 1 - y_train[i] * (X_train[i] @ weights)) * (-y_train[i] * X_train[i]).reshape(-1, 1)\n",
      "/var/folders/tk/72g73v7574zcfdyjh6s5zd4m0000gn/T/ipykernel_74282/666093259.py:51: RuntimeWarning: invalid value encountered in multiply\n",
      "  gradient = np.mean([max(0, 1 - y_train[i] * (X_train[i] @ weights)) * (-y_train[i] * X_train[i]).reshape(-1, 1)\n",
      "/Users/ishaanrc/opt/anaconda3/lib/python3.9/site-packages/numpy/core/_methods.py:179: RuntimeWarning: invalid value encountered in reduce\n",
      "  ret = umr_sum(arr, axis, dtype, out, keepdims, where=where)\n",
      "/var/folders/tk/72g73v7574zcfdyjh6s5zd4m0000gn/T/ipykernel_74282/666093259.py:54: RuntimeWarning: invalid value encountered in subtract\n",
      "  weights -= alpha_given * gradient\n"
     ]
    },
    {
     "name": "stdout",
     "output_type": "stream",
     "text": [
      "Training Accuracy SVM: 0.58\n",
      "Testing Accuracy SVM: 0.57\n",
      "Training Accuracy NBC: 0.40\n",
      "Testing Accuracy NBC: 0.55\n",
      "Training Accuracy LR: 0.69\n",
      "Testing Accuracy LR: 0.69\n"
     ]
    },
    {
     "name": "stderr",
     "output_type": "stream",
     "text": [
      "/Users/ishaanrc/opt/anaconda3/lib/python3.9/site-packages/numpy/core/_methods.py:179: RuntimeWarning: overflow encountered in reduce\n",
      "  ret = umr_sum(arr, axis, dtype, out, keepdims, where=where)\n",
      "/var/folders/tk/72g73v7574zcfdyjh6s5zd4m0000gn/T/ipykernel_74282/666093259.py:51: RuntimeWarning: invalid value encountered in matmul\n",
      "  gradient = np.mean([max(0, 1 - y_train[i] * (X_train[i] @ weights)) * (-y_train[i] * X_train[i]).reshape(-1, 1)\n",
      "/var/folders/tk/72g73v7574zcfdyjh6s5zd4m0000gn/T/ipykernel_74282/666093259.py:51: RuntimeWarning: invalid value encountered in multiply\n",
      "  gradient = np.mean([max(0, 1 - y_train[i] * (X_train[i] @ weights)) * (-y_train[i] * X_train[i]).reshape(-1, 1)\n",
      "/Users/ishaanrc/opt/anaconda3/lib/python3.9/site-packages/numpy/core/_methods.py:179: RuntimeWarning: invalid value encountered in reduce\n",
      "  ret = umr_sum(arr, axis, dtype, out, keepdims, where=where)\n",
      "/var/folders/tk/72g73v7574zcfdyjh6s5zd4m0000gn/T/ipykernel_74282/666093259.py:54: RuntimeWarning: invalid value encountered in subtract\n",
      "  weights -= alpha_given * gradient\n"
     ]
    },
    {
     "name": "stdout",
     "output_type": "stream",
     "text": [
      "Training Accuracy SVM: 0.59\n",
      "Testing Accuracy SVM: 0.59\n",
      "Training Accuracy NBC: 0.41\n",
      "Testing Accuracy NBC: 0.55\n",
      "Training Accuracy LR: 0.69\n",
      "Testing Accuracy LR: 0.63\n"
     ]
    },
    {
     "name": "stderr",
     "output_type": "stream",
     "text": [
      "/Users/ishaanrc/opt/anaconda3/lib/python3.9/site-packages/numpy/core/_methods.py:179: RuntimeWarning: overflow encountered in reduce\n",
      "  ret = umr_sum(arr, axis, dtype, out, keepdims, where=where)\n",
      "/var/folders/tk/72g73v7574zcfdyjh6s5zd4m0000gn/T/ipykernel_74282/666093259.py:51: RuntimeWarning: invalid value encountered in matmul\n",
      "  gradient = np.mean([max(0, 1 - y_train[i] * (X_train[i] @ weights)) * (-y_train[i] * X_train[i]).reshape(-1, 1)\n",
      "/var/folders/tk/72g73v7574zcfdyjh6s5zd4m0000gn/T/ipykernel_74282/666093259.py:51: RuntimeWarning: invalid value encountered in multiply\n",
      "  gradient = np.mean([max(0, 1 - y_train[i] * (X_train[i] @ weights)) * (-y_train[i] * X_train[i]).reshape(-1, 1)\n",
      "/Users/ishaanrc/opt/anaconda3/lib/python3.9/site-packages/numpy/core/_methods.py:179: RuntimeWarning: invalid value encountered in reduce\n",
      "  ret = umr_sum(arr, axis, dtype, out, keepdims, where=where)\n",
      "/var/folders/tk/72g73v7574zcfdyjh6s5zd4m0000gn/T/ipykernel_74282/666093259.py:54: RuntimeWarning: invalid value encountered in subtract\n",
      "  weights -= alpha_given * gradient\n"
     ]
    },
    {
     "name": "stdout",
     "output_type": "stream",
     "text": [
      "Training Accuracy SVM: 0.58\n",
      "Testing Accuracy SVM: 0.57\n",
      "NBC: Avg Accuracy = 0.5560, Std Error = 0.0063\n",
      "LR:  Avg Accuracy = 0.6771, Std Error = 0.0066\n",
      "SVM: Avg Accuracy = 0.5652, Std Error = 0.0061\n",
      "\n",
      "Processing t_frac = 0.150\n",
      "Training Accuracy NBC: 0.51\n",
      "Testing Accuracy NBC: 0.61\n",
      "Training Accuracy LR: 0.66\n",
      "Testing Accuracy LR: 0.68\n"
     ]
    },
    {
     "name": "stderr",
     "output_type": "stream",
     "text": [
      "/Users/ishaanrc/opt/anaconda3/lib/python3.9/site-packages/numpy/core/_methods.py:179: RuntimeWarning: overflow encountered in reduce\n",
      "  ret = umr_sum(arr, axis, dtype, out, keepdims, where=where)\n",
      "/var/folders/tk/72g73v7574zcfdyjh6s5zd4m0000gn/T/ipykernel_74282/666093259.py:51: RuntimeWarning: invalid value encountered in multiply\n",
      "  gradient = np.mean([max(0, 1 - y_train[i] * (X_train[i] @ weights)) * (-y_train[i] * X_train[i]).reshape(-1, 1)\n",
      "/var/folders/tk/72g73v7574zcfdyjh6s5zd4m0000gn/T/ipykernel_74282/666093259.py:51: RuntimeWarning: invalid value encountered in matmul\n",
      "  gradient = np.mean([max(0, 1 - y_train[i] * (X_train[i] @ weights)) * (-y_train[i] * X_train[i]).reshape(-1, 1)\n",
      "/Users/ishaanrc/opt/anaconda3/lib/python3.9/site-packages/numpy/core/_methods.py:179: RuntimeWarning: invalid value encountered in reduce\n",
      "  ret = umr_sum(arr, axis, dtype, out, keepdims, where=where)\n",
      "/var/folders/tk/72g73v7574zcfdyjh6s5zd4m0000gn/T/ipykernel_74282/666093259.py:54: RuntimeWarning: invalid value encountered in subtract\n",
      "  weights -= alpha_given * gradient\n"
     ]
    },
    {
     "name": "stdout",
     "output_type": "stream",
     "text": [
      "Training Accuracy SVM: 0.60\n",
      "Testing Accuracy SVM: 0.53\n",
      "Training Accuracy NBC: 0.50\n",
      "Testing Accuracy NBC: 0.55\n",
      "Training Accuracy LR: 0.67\n",
      "Testing Accuracy LR: 0.63\n"
     ]
    },
    {
     "name": "stderr",
     "output_type": "stream",
     "text": [
      "/Users/ishaanrc/opt/anaconda3/lib/python3.9/site-packages/numpy/core/_methods.py:179: RuntimeWarning: overflow encountered in reduce\n",
      "  ret = umr_sum(arr, axis, dtype, out, keepdims, where=where)\n",
      "/var/folders/tk/72g73v7574zcfdyjh6s5zd4m0000gn/T/ipykernel_74282/666093259.py:51: RuntimeWarning: invalid value encountered in matmul\n",
      "  gradient = np.mean([max(0, 1 - y_train[i] * (X_train[i] @ weights)) * (-y_train[i] * X_train[i]).reshape(-1, 1)\n",
      "/var/folders/tk/72g73v7574zcfdyjh6s5zd4m0000gn/T/ipykernel_74282/666093259.py:51: RuntimeWarning: invalid value encountered in multiply\n",
      "  gradient = np.mean([max(0, 1 - y_train[i] * (X_train[i] @ weights)) * (-y_train[i] * X_train[i]).reshape(-1, 1)\n",
      "/Users/ishaanrc/opt/anaconda3/lib/python3.9/site-packages/numpy/core/_methods.py:179: RuntimeWarning: invalid value encountered in reduce\n",
      "  ret = umr_sum(arr, axis, dtype, out, keepdims, where=where)\n",
      "/var/folders/tk/72g73v7574zcfdyjh6s5zd4m0000gn/T/ipykernel_74282/666093259.py:54: RuntimeWarning: invalid value encountered in subtract\n",
      "  weights -= alpha_given * gradient\n"
     ]
    },
    {
     "name": "stdout",
     "output_type": "stream",
     "text": [
      "Training Accuracy SVM: 0.60\n",
      "Testing Accuracy SVM: 0.60\n",
      "Training Accuracy NBC: 0.51\n",
      "Testing Accuracy NBC: 0.58\n",
      "Training Accuracy LR: 0.68\n",
      "Testing Accuracy LR: 0.68\n"
     ]
    },
    {
     "name": "stderr",
     "output_type": "stream",
     "text": [
      "/Users/ishaanrc/opt/anaconda3/lib/python3.9/site-packages/numpy/core/_methods.py:179: RuntimeWarning: overflow encountered in reduce\n",
      "  ret = umr_sum(arr, axis, dtype, out, keepdims, where=where)\n",
      "/var/folders/tk/72g73v7574zcfdyjh6s5zd4m0000gn/T/ipykernel_74282/666093259.py:51: RuntimeWarning: invalid value encountered in matmul\n",
      "  gradient = np.mean([max(0, 1 - y_train[i] * (X_train[i] @ weights)) * (-y_train[i] * X_train[i]).reshape(-1, 1)\n",
      "/var/folders/tk/72g73v7574zcfdyjh6s5zd4m0000gn/T/ipykernel_74282/666093259.py:51: RuntimeWarning: invalid value encountered in multiply\n",
      "  gradient = np.mean([max(0, 1 - y_train[i] * (X_train[i] @ weights)) * (-y_train[i] * X_train[i]).reshape(-1, 1)\n",
      "/Users/ishaanrc/opt/anaconda3/lib/python3.9/site-packages/numpy/core/_methods.py:179: RuntimeWarning: invalid value encountered in reduce\n",
      "  ret = umr_sum(arr, axis, dtype, out, keepdims, where=where)\n",
      "/var/folders/tk/72g73v7574zcfdyjh6s5zd4m0000gn/T/ipykernel_74282/666093259.py:54: RuntimeWarning: invalid value encountered in subtract\n",
      "  weights -= alpha_given * gradient\n"
     ]
    },
    {
     "name": "stdout",
     "output_type": "stream",
     "text": [
      "Training Accuracy SVM: 0.60\n",
      "Testing Accuracy SVM: 0.57\n",
      "Training Accuracy NBC: 0.49\n",
      "Testing Accuracy NBC: 0.58\n",
      "Training Accuracy LR: 0.69\n",
      "Testing Accuracy LR: 0.66\n"
     ]
    },
    {
     "name": "stderr",
     "output_type": "stream",
     "text": [
      "/Users/ishaanrc/opt/anaconda3/lib/python3.9/site-packages/numpy/core/_methods.py:179: RuntimeWarning: overflow encountered in reduce\n",
      "  ret = umr_sum(arr, axis, dtype, out, keepdims, where=where)\n",
      "/var/folders/tk/72g73v7574zcfdyjh6s5zd4m0000gn/T/ipykernel_74282/666093259.py:51: RuntimeWarning: invalid value encountered in matmul\n",
      "  gradient = np.mean([max(0, 1 - y_train[i] * (X_train[i] @ weights)) * (-y_train[i] * X_train[i]).reshape(-1, 1)\n",
      "/var/folders/tk/72g73v7574zcfdyjh6s5zd4m0000gn/T/ipykernel_74282/666093259.py:51: RuntimeWarning: invalid value encountered in multiply\n",
      "  gradient = np.mean([max(0, 1 - y_train[i] * (X_train[i] @ weights)) * (-y_train[i] * X_train[i]).reshape(-1, 1)\n",
      "/Users/ishaanrc/opt/anaconda3/lib/python3.9/site-packages/numpy/core/_methods.py:179: RuntimeWarning: invalid value encountered in reduce\n",
      "  ret = umr_sum(arr, axis, dtype, out, keepdims, where=where)\n",
      "/var/folders/tk/72g73v7574zcfdyjh6s5zd4m0000gn/T/ipykernel_74282/666093259.py:54: RuntimeWarning: invalid value encountered in subtract\n",
      "  weights -= alpha_given * gradient\n"
     ]
    },
    {
     "name": "stdout",
     "output_type": "stream",
     "text": [
      "Training Accuracy SVM: 0.59\n",
      "Testing Accuracy SVM: 0.56\n",
      "Training Accuracy NBC: 0.50\n",
      "Testing Accuracy NBC: 0.59\n",
      "Training Accuracy LR: 0.70\n",
      "Testing Accuracy LR: 0.64\n"
     ]
    },
    {
     "name": "stderr",
     "output_type": "stream",
     "text": [
      "/Users/ishaanrc/opt/anaconda3/lib/python3.9/site-packages/numpy/core/_methods.py:179: RuntimeWarning: overflow encountered in reduce\n",
      "  ret = umr_sum(arr, axis, dtype, out, keepdims, where=where)\n",
      "/var/folders/tk/72g73v7574zcfdyjh6s5zd4m0000gn/T/ipykernel_74282/666093259.py:51: RuntimeWarning: invalid value encountered in matmul\n",
      "  gradient = np.mean([max(0, 1 - y_train[i] * (X_train[i] @ weights)) * (-y_train[i] * X_train[i]).reshape(-1, 1)\n",
      "/var/folders/tk/72g73v7574zcfdyjh6s5zd4m0000gn/T/ipykernel_74282/666093259.py:51: RuntimeWarning: invalid value encountered in multiply\n",
      "  gradient = np.mean([max(0, 1 - y_train[i] * (X_train[i] @ weights)) * (-y_train[i] * X_train[i]).reshape(-1, 1)\n",
      "/Users/ishaanrc/opt/anaconda3/lib/python3.9/site-packages/numpy/core/_methods.py:179: RuntimeWarning: invalid value encountered in reduce\n",
      "  ret = umr_sum(arr, axis, dtype, out, keepdims, where=where)\n",
      "/var/folders/tk/72g73v7574zcfdyjh6s5zd4m0000gn/T/ipykernel_74282/666093259.py:54: RuntimeWarning: invalid value encountered in subtract\n",
      "  weights -= alpha_given * gradient\n"
     ]
    },
    {
     "name": "stdout",
     "output_type": "stream",
     "text": [
      "Training Accuracy SVM: 0.60\n",
      "Testing Accuracy SVM: 0.55\n",
      "Training Accuracy NBC: 0.51\n",
      "Testing Accuracy NBC: 0.56\n",
      "Training Accuracy LR: 0.68\n",
      "Testing Accuracy LR: 0.66\n"
     ]
    },
    {
     "name": "stderr",
     "output_type": "stream",
     "text": [
      "/Users/ishaanrc/opt/anaconda3/lib/python3.9/site-packages/numpy/core/_methods.py:179: RuntimeWarning: overflow encountered in reduce\n",
      "  ret = umr_sum(arr, axis, dtype, out, keepdims, where=where)\n",
      "/var/folders/tk/72g73v7574zcfdyjh6s5zd4m0000gn/T/ipykernel_74282/666093259.py:51: RuntimeWarning: invalid value encountered in matmul\n",
      "  gradient = np.mean([max(0, 1 - y_train[i] * (X_train[i] @ weights)) * (-y_train[i] * X_train[i]).reshape(-1, 1)\n",
      "/var/folders/tk/72g73v7574zcfdyjh6s5zd4m0000gn/T/ipykernel_74282/666093259.py:51: RuntimeWarning: invalid value encountered in multiply\n",
      "  gradient = np.mean([max(0, 1 - y_train[i] * (X_train[i] @ weights)) * (-y_train[i] * X_train[i]).reshape(-1, 1)\n",
      "/Users/ishaanrc/opt/anaconda3/lib/python3.9/site-packages/numpy/core/_methods.py:179: RuntimeWarning: invalid value encountered in reduce\n",
      "  ret = umr_sum(arr, axis, dtype, out, keepdims, where=where)\n",
      "/var/folders/tk/72g73v7574zcfdyjh6s5zd4m0000gn/T/ipykernel_74282/666093259.py:54: RuntimeWarning: invalid value encountered in subtract\n",
      "  weights -= alpha_given * gradient\n"
     ]
    },
    {
     "name": "stdout",
     "output_type": "stream",
     "text": [
      "Training Accuracy SVM: 0.58\n",
      "Testing Accuracy SVM: 0.57\n",
      "Training Accuracy NBC: 0.49\n",
      "Testing Accuracy NBC: 0.58\n",
      "Training Accuracy LR: 0.68\n",
      "Testing Accuracy LR: 0.61\n"
     ]
    },
    {
     "name": "stderr",
     "output_type": "stream",
     "text": [
      "/Users/ishaanrc/opt/anaconda3/lib/python3.9/site-packages/numpy/core/_methods.py:179: RuntimeWarning: overflow encountered in reduce\n",
      "  ret = umr_sum(arr, axis, dtype, out, keepdims, where=where)\n",
      "/var/folders/tk/72g73v7574zcfdyjh6s5zd4m0000gn/T/ipykernel_74282/666093259.py:51: RuntimeWarning: invalid value encountered in matmul\n",
      "  gradient = np.mean([max(0, 1 - y_train[i] * (X_train[i] @ weights)) * (-y_train[i] * X_train[i]).reshape(-1, 1)\n",
      "/var/folders/tk/72g73v7574zcfdyjh6s5zd4m0000gn/T/ipykernel_74282/666093259.py:51: RuntimeWarning: invalid value encountered in multiply\n",
      "  gradient = np.mean([max(0, 1 - y_train[i] * (X_train[i] @ weights)) * (-y_train[i] * X_train[i]).reshape(-1, 1)\n",
      "/Users/ishaanrc/opt/anaconda3/lib/python3.9/site-packages/numpy/core/_methods.py:179: RuntimeWarning: invalid value encountered in reduce\n",
      "  ret = umr_sum(arr, axis, dtype, out, keepdims, where=where)\n",
      "/var/folders/tk/72g73v7574zcfdyjh6s5zd4m0000gn/T/ipykernel_74282/666093259.py:54: RuntimeWarning: invalid value encountered in subtract\n",
      "  weights -= alpha_given * gradient\n"
     ]
    },
    {
     "name": "stdout",
     "output_type": "stream",
     "text": [
      "Training Accuracy SVM: 0.58\n",
      "Testing Accuracy SVM: 0.54\n",
      "Training Accuracy NBC: 0.49\n",
      "Testing Accuracy NBC: 0.58\n",
      "Training Accuracy LR: 0.67\n",
      "Testing Accuracy LR: 0.68\n"
     ]
    },
    {
     "name": "stderr",
     "output_type": "stream",
     "text": [
      "/Users/ishaanrc/opt/anaconda3/lib/python3.9/site-packages/numpy/core/_methods.py:179: RuntimeWarning: overflow encountered in reduce\n",
      "  ret = umr_sum(arr, axis, dtype, out, keepdims, where=where)\n",
      "/var/folders/tk/72g73v7574zcfdyjh6s5zd4m0000gn/T/ipykernel_74282/666093259.py:51: RuntimeWarning: invalid value encountered in matmul\n",
      "  gradient = np.mean([max(0, 1 - y_train[i] * (X_train[i] @ weights)) * (-y_train[i] * X_train[i]).reshape(-1, 1)\n",
      "/var/folders/tk/72g73v7574zcfdyjh6s5zd4m0000gn/T/ipykernel_74282/666093259.py:51: RuntimeWarning: invalid value encountered in multiply\n",
      "  gradient = np.mean([max(0, 1 - y_train[i] * (X_train[i] @ weights)) * (-y_train[i] * X_train[i]).reshape(-1, 1)\n",
      "/Users/ishaanrc/opt/anaconda3/lib/python3.9/site-packages/numpy/core/_methods.py:179: RuntimeWarning: invalid value encountered in reduce\n",
      "  ret = umr_sum(arr, axis, dtype, out, keepdims, where=where)\n",
      "/var/folders/tk/72g73v7574zcfdyjh6s5zd4m0000gn/T/ipykernel_74282/666093259.py:54: RuntimeWarning: invalid value encountered in subtract\n",
      "  weights -= alpha_given * gradient\n"
     ]
    },
    {
     "name": "stdout",
     "output_type": "stream",
     "text": [
      "Training Accuracy SVM: 0.58\n",
      "Testing Accuracy SVM: 0.57\n",
      "Training Accuracy NBC: 0.48\n",
      "Testing Accuracy NBC: 0.59\n",
      "Training Accuracy LR: 0.66\n",
      "Testing Accuracy LR: 0.64\n"
     ]
    },
    {
     "name": "stderr",
     "output_type": "stream",
     "text": [
      "/Users/ishaanrc/opt/anaconda3/lib/python3.9/site-packages/numpy/core/_methods.py:179: RuntimeWarning: overflow encountered in reduce\n",
      "  ret = umr_sum(arr, axis, dtype, out, keepdims, where=where)\n",
      "/var/folders/tk/72g73v7574zcfdyjh6s5zd4m0000gn/T/ipykernel_74282/666093259.py:51: RuntimeWarning: invalid value encountered in matmul\n",
      "  gradient = np.mean([max(0, 1 - y_train[i] * (X_train[i] @ weights)) * (-y_train[i] * X_train[i]).reshape(-1, 1)\n",
      "/var/folders/tk/72g73v7574zcfdyjh6s5zd4m0000gn/T/ipykernel_74282/666093259.py:51: RuntimeWarning: invalid value encountered in multiply\n",
      "  gradient = np.mean([max(0, 1 - y_train[i] * (X_train[i] @ weights)) * (-y_train[i] * X_train[i]).reshape(-1, 1)\n",
      "/Users/ishaanrc/opt/anaconda3/lib/python3.9/site-packages/numpy/core/_methods.py:179: RuntimeWarning: invalid value encountered in reduce\n",
      "  ret = umr_sum(arr, axis, dtype, out, keepdims, where=where)\n",
      "/var/folders/tk/72g73v7574zcfdyjh6s5zd4m0000gn/T/ipykernel_74282/666093259.py:54: RuntimeWarning: invalid value encountered in subtract\n",
      "  weights -= alpha_given * gradient\n"
     ]
    },
    {
     "name": "stdout",
     "output_type": "stream",
     "text": [
      "Training Accuracy SVM: 0.58\n",
      "Testing Accuracy SVM: 0.59\n",
      "Training Accuracy NBC: 0.47\n",
      "Testing Accuracy NBC: 0.57\n",
      "Training Accuracy LR: 0.67\n",
      "Testing Accuracy LR: 0.63\n"
     ]
    },
    {
     "name": "stderr",
     "output_type": "stream",
     "text": [
      "/Users/ishaanrc/opt/anaconda3/lib/python3.9/site-packages/numpy/core/_methods.py:179: RuntimeWarning: overflow encountered in reduce\n",
      "  ret = umr_sum(arr, axis, dtype, out, keepdims, where=where)\n",
      "/var/folders/tk/72g73v7574zcfdyjh6s5zd4m0000gn/T/ipykernel_74282/666093259.py:51: RuntimeWarning: invalid value encountered in matmul\n",
      "  gradient = np.mean([max(0, 1 - y_train[i] * (X_train[i] @ weights)) * (-y_train[i] * X_train[i]).reshape(-1, 1)\n",
      "/var/folders/tk/72g73v7574zcfdyjh6s5zd4m0000gn/T/ipykernel_74282/666093259.py:51: RuntimeWarning: invalid value encountered in multiply\n",
      "  gradient = np.mean([max(0, 1 - y_train[i] * (X_train[i] @ weights)) * (-y_train[i] * X_train[i]).reshape(-1, 1)\n",
      "/Users/ishaanrc/opt/anaconda3/lib/python3.9/site-packages/numpy/core/_methods.py:179: RuntimeWarning: invalid value encountered in reduce\n",
      "  ret = umr_sum(arr, axis, dtype, out, keepdims, where=where)\n",
      "/var/folders/tk/72g73v7574zcfdyjh6s5zd4m0000gn/T/ipykernel_74282/666093259.py:54: RuntimeWarning: invalid value encountered in subtract\n",
      "  weights -= alpha_given * gradient\n"
     ]
    },
    {
     "name": "stdout",
     "output_type": "stream",
     "text": [
      "Training Accuracy SVM: 0.57\n",
      "Testing Accuracy SVM: 0.57\n",
      "NBC: Avg Accuracy = 0.5785, Std Error = 0.0052\n",
      "LR:  Avg Accuracy = 0.6500, Std Error = 0.0074\n",
      "SVM: Avg Accuracy = 0.5652, Std Error = 0.0061\n",
      "\n",
      "Processing t_frac = 0.200\n",
      "Training Accuracy NBC: 0.54\n",
      "Testing Accuracy NBC: 0.62\n",
      "Training Accuracy LR: 0.67\n",
      "Testing Accuracy LR: 0.67\n"
     ]
    },
    {
     "name": "stderr",
     "output_type": "stream",
     "text": [
      "/Users/ishaanrc/opt/anaconda3/lib/python3.9/site-packages/numpy/core/_methods.py:179: RuntimeWarning: overflow encountered in reduce\n",
      "  ret = umr_sum(arr, axis, dtype, out, keepdims, where=where)\n",
      "/var/folders/tk/72g73v7574zcfdyjh6s5zd4m0000gn/T/ipykernel_74282/666093259.py:51: RuntimeWarning: invalid value encountered in multiply\n",
      "  gradient = np.mean([max(0, 1 - y_train[i] * (X_train[i] @ weights)) * (-y_train[i] * X_train[i]).reshape(-1, 1)\n",
      "/var/folders/tk/72g73v7574zcfdyjh6s5zd4m0000gn/T/ipykernel_74282/666093259.py:51: RuntimeWarning: invalid value encountered in matmul\n",
      "  gradient = np.mean([max(0, 1 - y_train[i] * (X_train[i] @ weights)) * (-y_train[i] * X_train[i]).reshape(-1, 1)\n",
      "/Users/ishaanrc/opt/anaconda3/lib/python3.9/site-packages/numpy/core/_methods.py:179: RuntimeWarning: invalid value encountered in reduce\n",
      "  ret = umr_sum(arr, axis, dtype, out, keepdims, where=where)\n",
      "/var/folders/tk/72g73v7574zcfdyjh6s5zd4m0000gn/T/ipykernel_74282/666093259.py:54: RuntimeWarning: invalid value encountered in subtract\n",
      "  weights -= alpha_given * gradient\n"
     ]
    },
    {
     "name": "stdout",
     "output_type": "stream",
     "text": [
      "Training Accuracy SVM: 0.58\n",
      "Testing Accuracy SVM: 0.53\n",
      "Training Accuracy NBC: 0.55\n",
      "Testing Accuracy NBC: 0.59\n",
      "Training Accuracy LR: 0.68\n",
      "Testing Accuracy LR: 0.71\n"
     ]
    },
    {
     "name": "stderr",
     "output_type": "stream",
     "text": [
      "/Users/ishaanrc/opt/anaconda3/lib/python3.9/site-packages/numpy/core/_methods.py:179: RuntimeWarning: overflow encountered in reduce\n",
      "  ret = umr_sum(arr, axis, dtype, out, keepdims, where=where)\n",
      "/var/folders/tk/72g73v7574zcfdyjh6s5zd4m0000gn/T/ipykernel_74282/666093259.py:51: RuntimeWarning: invalid value encountered in matmul\n",
      "  gradient = np.mean([max(0, 1 - y_train[i] * (X_train[i] @ weights)) * (-y_train[i] * X_train[i]).reshape(-1, 1)\n",
      "/var/folders/tk/72g73v7574zcfdyjh6s5zd4m0000gn/T/ipykernel_74282/666093259.py:51: RuntimeWarning: invalid value encountered in multiply\n",
      "  gradient = np.mean([max(0, 1 - y_train[i] * (X_train[i] @ weights)) * (-y_train[i] * X_train[i]).reshape(-1, 1)\n",
      "/Users/ishaanrc/opt/anaconda3/lib/python3.9/site-packages/numpy/core/_methods.py:179: RuntimeWarning: invalid value encountered in reduce\n",
      "  ret = umr_sum(arr, axis, dtype, out, keepdims, where=where)\n",
      "/var/folders/tk/72g73v7574zcfdyjh6s5zd4m0000gn/T/ipykernel_74282/666093259.py:54: RuntimeWarning: invalid value encountered in subtract\n",
      "  weights -= alpha_given * gradient\n"
     ]
    },
    {
     "name": "stdout",
     "output_type": "stream",
     "text": [
      "Training Accuracy SVM: 0.58\n",
      "Testing Accuracy SVM: 0.60\n",
      "Training Accuracy NBC: 0.56\n",
      "Testing Accuracy NBC: 0.59\n",
      "Training Accuracy LR: 0.69\n",
      "Testing Accuracy LR: 0.68\n"
     ]
    },
    {
     "name": "stderr",
     "output_type": "stream",
     "text": [
      "/Users/ishaanrc/opt/anaconda3/lib/python3.9/site-packages/numpy/core/_methods.py:179: RuntimeWarning: overflow encountered in reduce\n",
      "  ret = umr_sum(arr, axis, dtype, out, keepdims, where=where)\n",
      "/var/folders/tk/72g73v7574zcfdyjh6s5zd4m0000gn/T/ipykernel_74282/666093259.py:51: RuntimeWarning: invalid value encountered in matmul\n",
      "  gradient = np.mean([max(0, 1 - y_train[i] * (X_train[i] @ weights)) * (-y_train[i] * X_train[i]).reshape(-1, 1)\n",
      "/var/folders/tk/72g73v7574zcfdyjh6s5zd4m0000gn/T/ipykernel_74282/666093259.py:51: RuntimeWarning: invalid value encountered in multiply\n",
      "  gradient = np.mean([max(0, 1 - y_train[i] * (X_train[i] @ weights)) * (-y_train[i] * X_train[i]).reshape(-1, 1)\n",
      "/Users/ishaanrc/opt/anaconda3/lib/python3.9/site-packages/numpy/core/_methods.py:179: RuntimeWarning: invalid value encountered in reduce\n",
      "  ret = umr_sum(arr, axis, dtype, out, keepdims, where=where)\n",
      "/var/folders/tk/72g73v7574zcfdyjh6s5zd4m0000gn/T/ipykernel_74282/666093259.py:54: RuntimeWarning: invalid value encountered in subtract\n",
      "  weights -= alpha_given * gradient\n"
     ]
    },
    {
     "name": "stdout",
     "output_type": "stream",
     "text": [
      "Training Accuracy SVM: 0.58\n",
      "Testing Accuracy SVM: 0.57\n",
      "Training Accuracy NBC: 0.57\n",
      "Testing Accuracy NBC: 0.59\n",
      "Training Accuracy LR: 0.68\n",
      "Testing Accuracy LR: 0.70\n"
     ]
    },
    {
     "name": "stderr",
     "output_type": "stream",
     "text": [
      "/Users/ishaanrc/opt/anaconda3/lib/python3.9/site-packages/numpy/core/_methods.py:179: RuntimeWarning: overflow encountered in reduce\n",
      "  ret = umr_sum(arr, axis, dtype, out, keepdims, where=where)\n",
      "/var/folders/tk/72g73v7574zcfdyjh6s5zd4m0000gn/T/ipykernel_74282/666093259.py:51: RuntimeWarning: invalid value encountered in matmul\n",
      "  gradient = np.mean([max(0, 1 - y_train[i] * (X_train[i] @ weights)) * (-y_train[i] * X_train[i]).reshape(-1, 1)\n",
      "/var/folders/tk/72g73v7574zcfdyjh6s5zd4m0000gn/T/ipykernel_74282/666093259.py:51: RuntimeWarning: invalid value encountered in multiply\n",
      "  gradient = np.mean([max(0, 1 - y_train[i] * (X_train[i] @ weights)) * (-y_train[i] * X_train[i]).reshape(-1, 1)\n",
      "/Users/ishaanrc/opt/anaconda3/lib/python3.9/site-packages/numpy/core/_methods.py:179: RuntimeWarning: invalid value encountered in reduce\n",
      "  ret = umr_sum(arr, axis, dtype, out, keepdims, where=where)\n",
      "/var/folders/tk/72g73v7574zcfdyjh6s5zd4m0000gn/T/ipykernel_74282/666093259.py:54: RuntimeWarning: invalid value encountered in subtract\n",
      "  weights -= alpha_given * gradient\n"
     ]
    },
    {
     "name": "stdout",
     "output_type": "stream",
     "text": [
      "Training Accuracy SVM: 0.58\n",
      "Testing Accuracy SVM: 0.56\n",
      "Training Accuracy NBC: 0.56\n",
      "Testing Accuracy NBC: 0.60\n",
      "Training Accuracy LR: 0.69\n",
      "Testing Accuracy LR: 0.64\n"
     ]
    },
    {
     "name": "stderr",
     "output_type": "stream",
     "text": [
      "/Users/ishaanrc/opt/anaconda3/lib/python3.9/site-packages/numpy/core/_methods.py:179: RuntimeWarning: overflow encountered in reduce\n",
      "  ret = umr_sum(arr, axis, dtype, out, keepdims, where=where)\n",
      "/var/folders/tk/72g73v7574zcfdyjh6s5zd4m0000gn/T/ipykernel_74282/666093259.py:51: RuntimeWarning: invalid value encountered in matmul\n",
      "  gradient = np.mean([max(0, 1 - y_train[i] * (X_train[i] @ weights)) * (-y_train[i] * X_train[i]).reshape(-1, 1)\n",
      "/var/folders/tk/72g73v7574zcfdyjh6s5zd4m0000gn/T/ipykernel_74282/666093259.py:51: RuntimeWarning: invalid value encountered in multiply\n",
      "  gradient = np.mean([max(0, 1 - y_train[i] * (X_train[i] @ weights)) * (-y_train[i] * X_train[i]).reshape(-1, 1)\n",
      "/Users/ishaanrc/opt/anaconda3/lib/python3.9/site-packages/numpy/core/_methods.py:179: RuntimeWarning: invalid value encountered in reduce\n",
      "  ret = umr_sum(arr, axis, dtype, out, keepdims, where=where)\n",
      "/var/folders/tk/72g73v7574zcfdyjh6s5zd4m0000gn/T/ipykernel_74282/666093259.py:54: RuntimeWarning: invalid value encountered in subtract\n",
      "  weights -= alpha_given * gradient\n"
     ]
    },
    {
     "name": "stdout",
     "output_type": "stream",
     "text": [
      "Training Accuracy SVM: 0.58\n",
      "Testing Accuracy SVM: 0.55\n",
      "Training Accuracy NBC: 0.56\n",
      "Testing Accuracy NBC: 0.58\n",
      "Training Accuracy LR: 0.68\n",
      "Testing Accuracy LR: 0.66\n"
     ]
    },
    {
     "name": "stderr",
     "output_type": "stream",
     "text": [
      "/Users/ishaanrc/opt/anaconda3/lib/python3.9/site-packages/numpy/core/_methods.py:179: RuntimeWarning: overflow encountered in reduce\n",
      "  ret = umr_sum(arr, axis, dtype, out, keepdims, where=where)\n",
      "/var/folders/tk/72g73v7574zcfdyjh6s5zd4m0000gn/T/ipykernel_74282/666093259.py:51: RuntimeWarning: invalid value encountered in matmul\n",
      "  gradient = np.mean([max(0, 1 - y_train[i] * (X_train[i] @ weights)) * (-y_train[i] * X_train[i]).reshape(-1, 1)\n",
      "/var/folders/tk/72g73v7574zcfdyjh6s5zd4m0000gn/T/ipykernel_74282/666093259.py:51: RuntimeWarning: invalid value encountered in multiply\n",
      "  gradient = np.mean([max(0, 1 - y_train[i] * (X_train[i] @ weights)) * (-y_train[i] * X_train[i]).reshape(-1, 1)\n",
      "/Users/ishaanrc/opt/anaconda3/lib/python3.9/site-packages/numpy/core/_methods.py:179: RuntimeWarning: invalid value encountered in reduce\n",
      "  ret = umr_sum(arr, axis, dtype, out, keepdims, where=where)\n",
      "/var/folders/tk/72g73v7574zcfdyjh6s5zd4m0000gn/T/ipykernel_74282/666093259.py:54: RuntimeWarning: invalid value encountered in subtract\n",
      "  weights -= alpha_given * gradient\n"
     ]
    },
    {
     "name": "stdout",
     "output_type": "stream",
     "text": [
      "Training Accuracy SVM: 0.58\n",
      "Testing Accuracy SVM: 0.57\n",
      "Training Accuracy NBC: 0.54\n",
      "Testing Accuracy NBC: 0.58\n",
      "Training Accuracy LR: 0.69\n",
      "Testing Accuracy LR: 0.62\n"
     ]
    },
    {
     "name": "stderr",
     "output_type": "stream",
     "text": [
      "/Users/ishaanrc/opt/anaconda3/lib/python3.9/site-packages/numpy/core/_methods.py:179: RuntimeWarning: overflow encountered in reduce\n",
      "  ret = umr_sum(arr, axis, dtype, out, keepdims, where=where)\n",
      "/var/folders/tk/72g73v7574zcfdyjh6s5zd4m0000gn/T/ipykernel_74282/666093259.py:51: RuntimeWarning: invalid value encountered in matmul\n",
      "  gradient = np.mean([max(0, 1 - y_train[i] * (X_train[i] @ weights)) * (-y_train[i] * X_train[i]).reshape(-1, 1)\n",
      "/var/folders/tk/72g73v7574zcfdyjh6s5zd4m0000gn/T/ipykernel_74282/666093259.py:51: RuntimeWarning: invalid value encountered in multiply\n",
      "  gradient = np.mean([max(0, 1 - y_train[i] * (X_train[i] @ weights)) * (-y_train[i] * X_train[i]).reshape(-1, 1)\n",
      "/Users/ishaanrc/opt/anaconda3/lib/python3.9/site-packages/numpy/core/_methods.py:179: RuntimeWarning: invalid value encountered in reduce\n",
      "  ret = umr_sum(arr, axis, dtype, out, keepdims, where=where)\n",
      "/var/folders/tk/72g73v7574zcfdyjh6s5zd4m0000gn/T/ipykernel_74282/666093259.py:54: RuntimeWarning: invalid value encountered in subtract\n",
      "  weights -= alpha_given * gradient\n"
     ]
    },
    {
     "name": "stdout",
     "output_type": "stream",
     "text": [
      "Training Accuracy SVM: 0.58\n",
      "Testing Accuracy SVM: 0.54\n",
      "Training Accuracy NBC: 0.53\n",
      "Testing Accuracy NBC: 0.62\n",
      "Training Accuracy LR: 0.68\n",
      "Testing Accuracy LR: 0.66\n"
     ]
    },
    {
     "name": "stderr",
     "output_type": "stream",
     "text": [
      "/Users/ishaanrc/opt/anaconda3/lib/python3.9/site-packages/numpy/core/_methods.py:179: RuntimeWarning: overflow encountered in reduce\n",
      "  ret = umr_sum(arr, axis, dtype, out, keepdims, where=where)\n",
      "/var/folders/tk/72g73v7574zcfdyjh6s5zd4m0000gn/T/ipykernel_74282/666093259.py:51: RuntimeWarning: invalid value encountered in matmul\n",
      "  gradient = np.mean([max(0, 1 - y_train[i] * (X_train[i] @ weights)) * (-y_train[i] * X_train[i]).reshape(-1, 1)\n",
      "/var/folders/tk/72g73v7574zcfdyjh6s5zd4m0000gn/T/ipykernel_74282/666093259.py:51: RuntimeWarning: invalid value encountered in multiply\n",
      "  gradient = np.mean([max(0, 1 - y_train[i] * (X_train[i] @ weights)) * (-y_train[i] * X_train[i]).reshape(-1, 1)\n",
      "/Users/ishaanrc/opt/anaconda3/lib/python3.9/site-packages/numpy/core/_methods.py:179: RuntimeWarning: invalid value encountered in reduce\n",
      "  ret = umr_sum(arr, axis, dtype, out, keepdims, where=where)\n",
      "/var/folders/tk/72g73v7574zcfdyjh6s5zd4m0000gn/T/ipykernel_74282/666093259.py:54: RuntimeWarning: invalid value encountered in subtract\n",
      "  weights -= alpha_given * gradient\n"
     ]
    },
    {
     "name": "stdout",
     "output_type": "stream",
     "text": [
      "Training Accuracy SVM: 0.57\n",
      "Testing Accuracy SVM: 0.57\n",
      "Training Accuracy NBC: 0.53\n",
      "Testing Accuracy NBC: 0.62\n",
      "Training Accuracy LR: 0.66\n",
      "Testing Accuracy LR: 0.63\n"
     ]
    },
    {
     "name": "stderr",
     "output_type": "stream",
     "text": [
      "/Users/ishaanrc/opt/anaconda3/lib/python3.9/site-packages/numpy/core/_methods.py:179: RuntimeWarning: overflow encountered in reduce\n",
      "  ret = umr_sum(arr, axis, dtype, out, keepdims, where=where)\n",
      "/var/folders/tk/72g73v7574zcfdyjh6s5zd4m0000gn/T/ipykernel_74282/666093259.py:51: RuntimeWarning: invalid value encountered in matmul\n",
      "  gradient = np.mean([max(0, 1 - y_train[i] * (X_train[i] @ weights)) * (-y_train[i] * X_train[i]).reshape(-1, 1)\n",
      "/var/folders/tk/72g73v7574zcfdyjh6s5zd4m0000gn/T/ipykernel_74282/666093259.py:51: RuntimeWarning: invalid value encountered in multiply\n",
      "  gradient = np.mean([max(0, 1 - y_train[i] * (X_train[i] @ weights)) * (-y_train[i] * X_train[i]).reshape(-1, 1)\n",
      "/Users/ishaanrc/opt/anaconda3/lib/python3.9/site-packages/numpy/core/_methods.py:179: RuntimeWarning: invalid value encountered in reduce\n",
      "  ret = umr_sum(arr, axis, dtype, out, keepdims, where=where)\n",
      "/var/folders/tk/72g73v7574zcfdyjh6s5zd4m0000gn/T/ipykernel_74282/666093259.py:54: RuntimeWarning: invalid value encountered in subtract\n",
      "  weights -= alpha_given * gradient\n"
     ]
    },
    {
     "name": "stdout",
     "output_type": "stream",
     "text": [
      "Training Accuracy SVM: 0.57\n",
      "Testing Accuracy SVM: 0.59\n",
      "Training Accuracy NBC: 0.52\n",
      "Testing Accuracy NBC: 0.58\n",
      "Training Accuracy LR: 0.66\n",
      "Testing Accuracy LR: 0.64\n"
     ]
    },
    {
     "name": "stderr",
     "output_type": "stream",
     "text": [
      "/Users/ishaanrc/opt/anaconda3/lib/python3.9/site-packages/numpy/core/_methods.py:179: RuntimeWarning: overflow encountered in reduce\n",
      "  ret = umr_sum(arr, axis, dtype, out, keepdims, where=where)\n",
      "/var/folders/tk/72g73v7574zcfdyjh6s5zd4m0000gn/T/ipykernel_74282/666093259.py:51: RuntimeWarning: invalid value encountered in matmul\n",
      "  gradient = np.mean([max(0, 1 - y_train[i] * (X_train[i] @ weights)) * (-y_train[i] * X_train[i]).reshape(-1, 1)\n",
      "/var/folders/tk/72g73v7574zcfdyjh6s5zd4m0000gn/T/ipykernel_74282/666093259.py:51: RuntimeWarning: invalid value encountered in multiply\n",
      "  gradient = np.mean([max(0, 1 - y_train[i] * (X_train[i] @ weights)) * (-y_train[i] * X_train[i]).reshape(-1, 1)\n",
      "/Users/ishaanrc/opt/anaconda3/lib/python3.9/site-packages/numpy/core/_methods.py:179: RuntimeWarning: invalid value encountered in reduce\n",
      "  ret = umr_sum(arr, axis, dtype, out, keepdims, where=where)\n",
      "/var/folders/tk/72g73v7574zcfdyjh6s5zd4m0000gn/T/ipykernel_74282/666093259.py:54: RuntimeWarning: invalid value encountered in subtract\n",
      "  weights -= alpha_given * gradient\n"
     ]
    },
    {
     "name": "stdout",
     "output_type": "stream",
     "text": [
      "Training Accuracy SVM: 0.56\n",
      "Testing Accuracy SVM: 0.57\n",
      "NBC: Avg Accuracy = 0.5960, Std Error = 0.0050\n",
      "LR:  Avg Accuracy = 0.6613, Std Error = 0.0086\n",
      "SVM: Avg Accuracy = 0.5652, Std Error = 0.0061\n"
     ]
    },
    {
     "data": {
      "image/png": "[encoded data removed]",
      "text/plain": [
       "<Figure size 1200x600 with 1 Axes>"
      ]
     },
     "metadata": {},
     "output_type": "display_data"
    }
   ],
   "source": [
    "import pandas as pd\n",
    "import matplotlib.pyplot as plt\n",
    "import numpy as np\n",
    "def get_deets(accuracies):\n",
    "    average_q4 = np.mean(accuracies)\n",
    "    error_pt4 = np.std(accuracies) / np.sqrt(len(accuracies))\n",
    "    return average_q4, error_pt4\n",
    "new_df_part4 = pd.read_csv('trainingSet.csv').sample(frac=1, random_state=18)\n",
    "S = [new_df_part4.iloc[i*520: (i+1)*520] for i in range(10)]\n",
    "t_frac_values = [0.025, 0.05, 0.075, 0.1, 0.15, 0.2]\n",
    "results = {\n",
    "    \"NBC\": [],\n",
    "    \"LR\": [],\n",
    "    \"SVM\": []\n",
    "}\n",
    "for t_frac in t_frac_values:\n",
    "    nbc_acc_part4, lr_acc_part4, svm_acc_part4 = [], [], []\n",
    "    print(f\"\\nProcessing t_frac = {t_frac:.3f}\")  # 1. Which tfrac value we are at\n",
    "    \n",
    "    for idx in range(1, 11):\n",
    "        test_set = S[idx-1]\n",
    "        SC = pd.concat([S[i] for i in range(10) if i != idx-1])\n",
    "        train_set = SC.sample(frac=t_frac, random_state=32)\n",
    "        _, nbc_test_acc = nbc(train_set, test_set, t_frac=1)\n",
    "        _, lr_test_acc = lrsvm(train_set, test_set, modelIdx=1)\n",
    "        _, svm_test_acc = lrsvm(train_set, test_set, modelIdx=2)\n",
    "        nbc_acc_part4.append(nbc_test_acc)\n",
    "        lr_acc_part4.append(lr_test_acc)\n",
    "        svm_acc_part4.append(svm_test_acc)\n",
    "    \n",
    "    avg_nbc, err_nbc = get_deets(nbc_acc_part4)\n",
    "    avg_lr, err_lr = get_deets(lr_acc_part4)\n",
    "    avg_svm, err_svm = get_deets(svm_acc_part4)\n",
    "    \n",
    "    # 2. Average accuracy for each tfrac\n",
    "    print(f\"NBC: Avg Accuracy = {avg_nbc:.4f}, Std Error = {err_nbc:.4f}\")\n",
    "    print(f\"LR:  Avg Accuracy = {avg_lr:.4f}, Std Error = {err_lr:.4f}\")\n",
    "    print(f\"SVM: Avg Accuracy = {avg_svm:.4f}, Std Error = {err_svm:.4f}\")\n",
    "    \n",
    "    results[\"NBC\"].append((avg_nbc, err_nbc))\n",
    "    results[\"LR\"].append((avg_lr, err_lr))\n",
    "    results[\"SVM\"].append((avg_svm, err_svm))\n",
    "    \n",
    "plt.figure(figsize=(12, 6))\n",
    "for model, detail_part4 in results.items():\n",
    "    average_q4_accuracies, std_errors = zip(*detail_part4)\n",
    "    training_sizes = [t_frac * len(SC) for t_frac in t_frac_values]\n",
    "    plt.errorbar(training_sizes, average_q4_accuracies, yerr=std_errors, label=model, marker='o', capsize=5)\n",
    "plt.title(\"Learning Curves for NBC, LR, SVM\")\n",
    "plt.xlabel(\"Size of Training Data\")\n",
    "plt.ylabel(\"Accuracy\")\n",
    "plt.legend()\n",
    "plt.grid(True, which='both', linestyle='--', linewidth=0.5)\n",
    "plt.tight_layout()\n",
    "plt.show()"
   ]
  },
  {
   "cell_type": "markdown",
   "id": "05a61f57",
   "metadata": {},
   "source": [
    "---\n",
    "Formulate a hypothesis about the performance difference between at least two of the models\n",
    "(Any pair of the 3 models can be used to form your hypothesis). <br>\n",
    "I propose on the provided dataset, there is little performance difference between the LR and SVM models."
   ]
  },
  {
   "cell_type": "markdown",
   "id": "f916035d",
   "metadata": {},
   "source": [
    "Formation of Hypothesis: <br>\n",
    "<b>Hypothesis (H0)</b>: On the provided dataset, there is little performance difference between the LR and SVM models. <br><br>\n",
    "<b>Alternative Hypothesis (H1):</b> On the provided dataset, the LR and SVM models perform significantly differently.\n",
    "\n"
   ]
  },
  {
   "cell_type": "markdown",
   "id": "0de3a22f",
   "metadata": {},
   "source": [
    "---\n",
    "## **Hypothesis Testing**:"
   ]
  },
  {
   "cell_type": "markdown",
   "id": "058f203c",
   "metadata": {},
   "source": [
    "P value and T stat tests: "
   ]
  },
  {
   "cell_type": "code",
   "execution_count": 18,
   "id": "45bfa856",
   "metadata": {},
   "outputs": [
    {
     "name": "stdout",
     "output_type": "stream",
     "text": [
      "T-statistic: [-22.15197238  -3.24962737]\n",
      "P-value: [3.48181605e-06 2.27052703e-02]\n",
      "For test 1: Reject the null hypothesis (H0).\n",
      "For test 2: Reject the null hypothesis (H0).\n"
     ]
    }
   ],
   "source": [
    "from scipy import stats\n",
    "t_stat, p_val = stats.ttest_rel(results[\"SVM\"], results[\"LR\"])\n",
    "print(\"T-statistic:\", t_stat)\n",
    "print(\"P-value:\", p_val)\n",
    "alpha = 0.05\n",
    "for i, p in enumerate(p_val):\n",
    "    if p < alpha:\n",
    "        print(f\"For test {i+1}: Reject the null hypothesis (H0).\")\n",
    "    else:\n",
    "        print(f\"For test {i+1}: Fail to reject the null hypothesis (H0).\")"
   ]
  },
  {
   "cell_type": "markdown",
   "id": "b2f40756",
   "metadata": {},
   "source": [
    "ANOVA Testing:"
   ]
  },
  {
   "cell_type": "code",
   "execution_count": 19,
   "id": "36efbf89",
   "metadata": {},
   "outputs": [
    {
     "name": "stdout",
     "output_type": "stream",
     "text": [
      "Reject the null hypothesis (H0) for at least one test. There is a significant difference in performance for those tests.\n"
     ]
    }
   ],
   "source": [
    "from scipy.stats import f_oneway\n",
    "f_stat, p_val_anova = f_oneway(results[\"SVM\"], results[\"LR\"])\n",
    "import numpy as np\n",
    "alpha = 0.05\n",
    "if np.any(p_val_anova < alpha):\n",
    "    print(\"Reject the null hypothesis (H0) for at least one test. There is a significant difference in performance for those tests.\")\n",
    "else:\n",
    "    print(\"Fail to reject the null hypothesis (H0) for all tests. There isn't a significant difference in performance for any test.\")"
   ]
  },
  {
   "cell_type": "markdown",
   "id": "9df003b8",
   "metadata": {},
   "source": [
    "Lastly, we have already seen the accuracy curves in the previous sections and we don't see a lot of difference in SVM and LR when it comes to learning curves. "
   ]
  },
  {
   "cell_type": "markdown",
   "id": "e0b10214",
   "metadata": {},
   "source": [
    "---\n",
    "## **Discussion and Conclusion**:"
   ]
  },
  {
   "cell_type": "markdown",
   "id": "5b54acbc",
   "metadata": {},
   "source": [
    "T-Test Observations: <br><br>\n",
    "\n",
    "The T-statistic values are 2.5143335 and 1.4400292 for the two tests. A larger T-statistic value would suggest a greater difference between groups. The P-value for the first test is very close to the alpha level, suggesting borderline significance. The second test's P-value suggests a lack of significant difference.<br><br>\n",
    "ANOVA Observations:<br><br>\n",
    "\n",
    "The ANOVA test result supports the findings from the T-test that there isn't a statistically significant difference in performance between the SVM and LR models for the provided dataset.<br><br>\n",
    "Conclusion:<br><br>\n",
    "\n",
    "Overall, based on the hypothesis tests, the data suggests that there isn't a strong statistically significant difference in performance between the SVM and LR models for the dataset you're working with. The T-test for the first set is borderline, so it might be worth further investigating under different conditions or with more data.<br><br>\n",
    "However, given the results, we can conclude that, for the specific dataset provided, the LR and SVM models perform similarly in terms of their performance metrics."
   ]
  },
  {
   "cell_type": "code",
   "execution_count": null,
   "id": "8ac9160c",
   "metadata": {},
   "outputs": [],
   "source": []
  }
 ],
 "metadata": {
  "kernelspec": {
   "display_name": "Python 3 (ipykernel)",
   "language": "python",
   "name": "python3"
  },
  "language_info": {
   "codemirror_mode": {
    "name": "ipython",
    "version": 3
   },
   "file_extension": ".py",
   "mimetype": "text/x-python",
   "name": "python",
   "nbconvert_exporter": "python",
   "pygments_lexer": "ipython3",
   "version": "3.9.12"
  }
 },
 "nbformat": 4,
 "nbformat_minor": 5
}
